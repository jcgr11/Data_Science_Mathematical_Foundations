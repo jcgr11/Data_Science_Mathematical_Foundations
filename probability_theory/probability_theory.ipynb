{
 "cells": [
  {
   "cell_type": "markdown",
   "metadata": {},
   "source": [
    "## Probability and Measures of Center/Spread"
   ]
  },
  {
   "cell_type": "code",
   "execution_count": 476,
   "metadata": {},
   "outputs": [],
   "source": [
    "# Import necessary packages\n",
    "import pandas as pd\n",
    "import numpy as np "
   ]
  },
  {
   "cell_type": "code",
   "execution_count": 477,
   "metadata": {},
   "outputs": [],
   "source": [
    "# Read .csv file into a dataframe\n",
    "df = pd.read_csv('UMACurriculumAssociations.csv')"
   ]
  },
  {
   "cell_type": "code",
   "execution_count": 478,
   "metadata": {},
   "outputs": [
    {
     "data": {
      "text/html": [
       "<div>\n",
       "<style scoped>\n",
       "    .dataframe tbody tr th:only-of-type {\n",
       "        vertical-align: middle;\n",
       "    }\n",
       "\n",
       "    .dataframe tbody tr th {\n",
       "        vertical-align: top;\n",
       "    }\n",
       "\n",
       "    .dataframe thead th {\n",
       "        text-align: right;\n",
       "    }\n",
       "</style>\n",
       "<table border=\"1\" class=\"dataframe\">\n",
       "  <thead>\n",
       "    <tr style=\"text-align: right;\">\n",
       "      <th></th>\n",
       "      <th>courseName</th>\n",
       "      <th>courseLetter</th>\n",
       "      <th>courseNumber</th>\n",
       "      <th>Item</th>\n",
       "      <th>ItemType</th>\n",
       "      <th>Unnamed: 5</th>\n",
       "      <th>CourseName</th>\n",
       "      <th>CourseLetter</th>\n",
       "      <th>CourseNumber</th>\n",
       "    </tr>\n",
       "  </thead>\n",
       "  <tbody>\n",
       "    <tr>\n",
       "      <th>0</th>\n",
       "      <td>AME 105</td>\n",
       "      <td>AME</td>\n",
       "      <td>105</td>\n",
       "      <td>Contemporary &amp; Popular Music, BM checksheet</td>\n",
       "      <td>Program</td>\n",
       "      <td>NaN</td>\n",
       "      <td>AME 105</td>\n",
       "      <td>AME</td>\n",
       "      <td>105</td>\n",
       "    </tr>\n",
       "    <tr>\n",
       "      <th>1</th>\n",
       "      <td>AME 105</td>\n",
       "      <td>AME</td>\n",
       "      <td>105</td>\n",
       "      <td>MUH 105</td>\n",
       "      <td>CrossList</td>\n",
       "      <td>NaN</td>\n",
       "      <td>AME 121</td>\n",
       "      <td>AME</td>\n",
       "      <td>121</td>\n",
       "    </tr>\n",
       "    <tr>\n",
       "      <th>2</th>\n",
       "      <td>AME 121</td>\n",
       "      <td>AME</td>\n",
       "      <td>121</td>\n",
       "      <td>ANT 121</td>\n",
       "      <td>CrossList</td>\n",
       "      <td>NaN</td>\n",
       "      <td>AME 122</td>\n",
       "      <td>AME</td>\n",
       "      <td>122</td>\n",
       "    </tr>\n",
       "    <tr>\n",
       "      <th>3</th>\n",
       "      <td>AME 121</td>\n",
       "      <td>AME</td>\n",
       "      <td>121</td>\n",
       "      <td>ANT 308</td>\n",
       "      <td>Prereq</td>\n",
       "      <td>NaN</td>\n",
       "      <td>AME 201W</td>\n",
       "      <td>AME</td>\n",
       "      <td>201W</td>\n",
       "    </tr>\n",
       "    <tr>\n",
       "      <th>4</th>\n",
       "      <td>AME 121</td>\n",
       "      <td>AME</td>\n",
       "      <td>121</td>\n",
       "      <td>American Studies Minor checksheet</td>\n",
       "      <td>Program</td>\n",
       "      <td>NaN</td>\n",
       "      <td>AME 205</td>\n",
       "      <td>AME</td>\n",
       "      <td>205</td>\n",
       "    </tr>\n",
       "    <tr>\n",
       "      <th>...</th>\n",
       "      <td>...</td>\n",
       "      <td>...</td>\n",
       "      <td>...</td>\n",
       "      <td>...</td>\n",
       "      <td>...</td>\n",
       "      <td>...</td>\n",
       "      <td>...</td>\n",
       "      <td>...</td>\n",
       "      <td>...</td>\n",
       "    </tr>\n",
       "    <tr>\n",
       "      <th>5697</th>\n",
       "      <td>WGS 430</td>\n",
       "      <td>WGS</td>\n",
       "      <td>430</td>\n",
       "      <td>Embodied Social Justice Minor checksheet</td>\n",
       "      <td>Program</td>\n",
       "      <td>NaN</td>\n",
       "      <td>NaN</td>\n",
       "      <td>NaN</td>\n",
       "      <td>NaN</td>\n",
       "    </tr>\n",
       "    <tr>\n",
       "      <th>5698</th>\n",
       "      <td>WGS 430</td>\n",
       "      <td>WGS</td>\n",
       "      <td>430</td>\n",
       "      <td>Holocaust, Genocide &amp; Human Rights Studies Min...</td>\n",
       "      <td>Program</td>\n",
       "      <td>NaN</td>\n",
       "      <td>NaN</td>\n",
       "      <td>NaN</td>\n",
       "      <td>NaN</td>\n",
       "    </tr>\n",
       "    <tr>\n",
       "      <th>5699</th>\n",
       "      <td>WGS 430</td>\n",
       "      <td>WGS</td>\n",
       "      <td>430</td>\n",
       "      <td>INT 430</td>\n",
       "      <td>CrossList</td>\n",
       "      <td>NaN</td>\n",
       "      <td>NaN</td>\n",
       "      <td>NaN</td>\n",
       "      <td>NaN</td>\n",
       "    </tr>\n",
       "    <tr>\n",
       "      <th>5700</th>\n",
       "      <td>WGS 489</td>\n",
       "      <td>WGS</td>\n",
       "      <td>489</td>\n",
       "      <td>Women, Gender &amp; Sexuality Studies, Minor check...</td>\n",
       "      <td>Program</td>\n",
       "      <td>NaN</td>\n",
       "      <td>NaN</td>\n",
       "      <td>NaN</td>\n",
       "      <td>NaN</td>\n",
       "    </tr>\n",
       "    <tr>\n",
       "      <th>5701</th>\n",
       "      <td>WGS 494</td>\n",
       "      <td>WGS</td>\n",
       "      <td>494</td>\n",
       "      <td>Women, Gender &amp; Sexuality Studies, Minor check...</td>\n",
       "      <td>Program</td>\n",
       "      <td>NaN</td>\n",
       "      <td>NaN</td>\n",
       "      <td>NaN</td>\n",
       "      <td>NaN</td>\n",
       "    </tr>\n",
       "  </tbody>\n",
       "</table>\n",
       "<p>5702 rows × 9 columns</p>\n",
       "</div>"
      ],
      "text/plain": [
       "     courseName courseLetter courseNumber  \\\n",
       "0       AME 105          AME          105   \n",
       "1       AME 105          AME          105   \n",
       "2       AME 121          AME          121   \n",
       "3       AME 121          AME          121   \n",
       "4       AME 121          AME          121   \n",
       "...         ...          ...          ...   \n",
       "5697    WGS 430          WGS          430   \n",
       "5698    WGS 430          WGS          430   \n",
       "5699    WGS 430          WGS          430   \n",
       "5700    WGS 489          WGS          489   \n",
       "5701    WGS 494          WGS          494   \n",
       "\n",
       "                                                   Item   ItemType  \\\n",
       "0           Contemporary & Popular Music, BM checksheet    Program   \n",
       "1                                               MUH 105  CrossList   \n",
       "2                                               ANT 121  CrossList   \n",
       "3                                               ANT 308     Prereq   \n",
       "4                     American Studies Minor checksheet    Program   \n",
       "...                                                 ...        ...   \n",
       "5697           Embodied Social Justice Minor checksheet    Program   \n",
       "5698  Holocaust, Genocide & Human Rights Studies Min...    Program   \n",
       "5699                                            INT 430  CrossList   \n",
       "5700  Women, Gender & Sexuality Studies, Minor check...    Program   \n",
       "5701  Women, Gender & Sexuality Studies, Minor check...    Program   \n",
       "\n",
       "      Unnamed: 5 CourseName CourseLetter CourseNumber  \n",
       "0            NaN    AME 105          AME          105  \n",
       "1            NaN    AME 121          AME          121  \n",
       "2            NaN    AME 122          AME          122  \n",
       "3            NaN   AME 201W          AME         201W  \n",
       "4            NaN    AME 205          AME          205  \n",
       "...          ...        ...          ...          ...  \n",
       "5697         NaN        NaN          NaN          NaN  \n",
       "5698         NaN        NaN          NaN          NaN  \n",
       "5699         NaN        NaN          NaN          NaN  \n",
       "5700         NaN        NaN          NaN          NaN  \n",
       "5701         NaN        NaN          NaN          NaN  \n",
       "\n",
       "[5702 rows x 9 columns]"
      ]
     },
     "execution_count": 478,
     "metadata": {},
     "output_type": "execute_result"
    }
   ],
   "source": [
    "df"
   ]
  },
  {
   "cell_type": "markdown",
   "metadata": {},
   "source": [
    "### 1.\tHow many 100 level courses from the CIS department are part of the Computer Information Systems, BS program?"
   ]
  },
  {
   "cell_type": "code",
   "execution_count": 479,
   "metadata": {},
   "outputs": [
    {
     "name": "stdout",
     "output_type": "stream",
     "text": [
      "The Number of 100 level courses in the CIS department for Computer Information Systems BS Program is 6\n"
     ]
    }
   ],
   "source": [
    "# Filter the dataset based on the specifications in the question.\n",
    "cis_100_lv_bs = df[(df['courseLetter'] == 'CIS') & (df['courseNumber'].str.startswith('1')) & (df['Item'] == 'Computer Information Systems, BS checksheet')]\n",
    "count = len(cis_100_lv_bs)\n",
    "\n",
    "print(f\"The Number of 100 level courses in the CIS department for Computer Information Systems BS Program is {count}\")\n"
   ]
  },
  {
   "cell_type": "markdown",
   "metadata": {},
   "source": [
    "### 2.\tCompute how many cross-lists each course has.  Using that result (which you do not need to give as a comment to your submission), please calculate:\n",
    "* a.\tMean number of crosslists\n",
    "* b.\tMedian number of crosslists\n",
    "* c.\tMode number of crosslists\n",
    "\n",
    "***Note on Feedback: I am not sure what you mean when you say not to forget the zeros***\n"
   ]
  },
  {
   "cell_type": "code",
   "execution_count": 480,
   "metadata": {},
   "outputs": [
    {
     "data": {
      "text/html": [
       "<div>\n",
       "<style scoped>\n",
       "    .dataframe tbody tr th:only-of-type {\n",
       "        vertical-align: middle;\n",
       "    }\n",
       "\n",
       "    .dataframe tbody tr th {\n",
       "        vertical-align: top;\n",
       "    }\n",
       "\n",
       "    .dataframe thead th {\n",
       "        text-align: right;\n",
       "    }\n",
       "</style>\n",
       "<table border=\"1\" class=\"dataframe\">\n",
       "  <thead>\n",
       "    <tr style=\"text-align: right;\">\n",
       "      <th></th>\n",
       "      <th>CrossList Count</th>\n",
       "    </tr>\n",
       "  </thead>\n",
       "  <tbody>\n",
       "    <tr>\n",
       "      <th>AME 105</th>\n",
       "      <td>1</td>\n",
       "    </tr>\n",
       "    <tr>\n",
       "      <th>AME 121</th>\n",
       "      <td>1</td>\n",
       "    </tr>\n",
       "    <tr>\n",
       "      <th>AME 122</th>\n",
       "      <td>1</td>\n",
       "    </tr>\n",
       "    <tr>\n",
       "      <th>AME 205</th>\n",
       "      <td>2</td>\n",
       "    </tr>\n",
       "    <tr>\n",
       "      <th>AME 265</th>\n",
       "      <td>1</td>\n",
       "    </tr>\n",
       "    <tr>\n",
       "      <th>...</th>\n",
       "      <td>...</td>\n",
       "    </tr>\n",
       "    <tr>\n",
       "      <th>WGS 340</th>\n",
       "      <td>2</td>\n",
       "    </tr>\n",
       "    <tr>\n",
       "      <th>WGS 350W</th>\n",
       "      <td>1</td>\n",
       "    </tr>\n",
       "    <tr>\n",
       "      <th>WGS 353</th>\n",
       "      <td>1</td>\n",
       "    </tr>\n",
       "    <tr>\n",
       "      <th>WGS 420</th>\n",
       "      <td>2</td>\n",
       "    </tr>\n",
       "    <tr>\n",
       "      <th>WGS 430</th>\n",
       "      <td>2</td>\n",
       "    </tr>\n",
       "  </tbody>\n",
       "</table>\n",
       "<p>214 rows × 1 columns</p>\n",
       "</div>"
      ],
      "text/plain": [
       "          CrossList Count\n",
       "AME 105                 1\n",
       "AME 121                 1\n",
       "AME 122                 1\n",
       "AME 205                 2\n",
       "AME 265                 1\n",
       "...                   ...\n",
       "WGS 340                 2\n",
       "WGS 350W                1\n",
       "WGS 353                 1\n",
       "WGS 420                 2\n",
       "WGS 430                 2\n",
       "\n",
       "[214 rows x 1 columns]"
      ]
     },
     "execution_count": 480,
     "metadata": {},
     "output_type": "execute_result"
    }
   ],
   "source": [
    "# Initialize a dictionary to store course counts\n",
    "course_counts = {} \n",
    "# Group the data by 'courseName' and count the occurrences of 'CrossList' within each group\n",
    "for course, group_df in df[df['ItemType'] == 'CrossList'].groupby('courseName'):\n",
    "    course_counts[course] = len(group_df)\n",
    "\n",
    "# convert the crosslist count per course into a small DataFrame for easier calculations  in next cell\n",
    "df_course_counts = pd.DataFrame.from_dict(course_counts, orient='index', columns=['CrossList Count'])\n",
    "df_course_counts\n"
   ]
  },
  {
   "cell_type": "code",
   "execution_count": 481,
   "metadata": {},
   "outputs": [
    {
     "name": "stdout",
     "output_type": "stream",
     "text": [
      "Total count of crosslists: 214\n",
      "Mean number of crosslists: 1.3317757009345794\n",
      "Median number of crosslists: 1.0\n",
      "Mode number of crosslists: 1\n"
     ]
    }
   ],
   "source": [
    "# Count the number of crosslisted courses\n",
    "crossList_count = len(df_course_counts['CrossList Count'])\n",
    "\n",
    "# Calculate and display the mean, median, and mode of these courses\n",
    "mean = np.mean(df_course_counts['CrossList Count'])\n",
    "median = np.median(df_course_counts['CrossList Count'])\n",
    "mode = df_course_counts['CrossList Count'].mode().iat[0] # specify index at 0 so mode is displayed correctly, the original output without this argument was weird and showing 0 and 1\n",
    "print(f'Total count of crosslists: {crossList_count}')\n",
    "print(f'Mean number of crosslists: {mean}')\n",
    "print(f'Median number of crosslists: {median}')\n",
    "print(f'Mode number of crosslists: {mode}')\n"
   ]
  },
  {
   "cell_type": "markdown",
   "metadata": {},
   "source": [
    "### 3.\tHow many courses at UMA are:\n",
    "* a.\tCIS courses\n",
    "* b.\tCYB courses\n",
    "* c.\tDSC courses\n",
    "* d.\tISS courses\n",
    "\n",
    "***EDITED see the note next to the computing_courses_df variable***"
   ]
  },
  {
   "cell_type": "code",
   "execution_count": 482,
   "metadata": {},
   "outputs": [
    {
     "data": {
      "text/plain": [
       "CourseLetter\n",
       "CIS    72\n",
       "ISS    33\n",
       "DSC    19\n",
       "CYB    15\n",
       "Name: count, dtype: int64"
      ]
     },
     "execution_count": 482,
     "metadata": {},
     "output_type": "execute_result"
    }
   ],
   "source": [
    "# list of courses we are looking for\n",
    "courses_specified = ['CIS', 'CYB', 'DSC', 'ISS']\n",
    "\n",
    "# filtered DataFrame\n",
    "computing_courses_df = df[df['CourseLetter'].isin(courses_specified)] #capitalized the 'C' in 'CourseLetter\" column name to specify the column name in the dictionary\n",
    "\n",
    "#count of specified courses\n",
    "computing_courses_df['CourseLetter'].value_counts()"
   ]
  },
  {
   "cell_type": "markdown",
   "metadata": {},
   "source": [
    "### 4.\tThose four branches are called computing courses.  How many computing courses are at UMA (be careful – crosslists are functionally the same course).\n",
    "\n",
    "***EDITED see the note next to the computing_courses_df variable. I keep getting 139 instead of the 129 noted in my feedback***"
   ]
  },
  {
   "cell_type": "code",
   "execution_count": 483,
   "metadata": {},
   "outputs": [
    {
     "name": "stdout",
     "output_type": "stream",
     "text": [
      "Computing courses (considering cross-listed): 139\n"
     ]
    }
   ],
   "source": [
    "# Drop duplicate course codes (consider cross-listed as one)\n",
    "unique_computing_courses_df = computing_courses_df.drop_duplicates(subset=['CourseLetter', 'CourseNumber'])\n",
    "\n",
    "# Get total count\n",
    "total_count = len(unique_computing_courses_df)\n",
    "\n",
    "print(f\"Computing courses (considering cross-listed): {total_count}\")"
   ]
  },
  {
   "cell_type": "markdown",
   "metadata": {},
   "source": [
    "### 5.\tWhat proportion of courses (by code – crosslists are separate for this purpose) are in the Architecture, B.Arch checksheet?"
   ]
  },
  {
   "cell_type": "code",
   "execution_count": 484,
   "metadata": {},
   "outputs": [
    {
     "name": "stdout",
     "output_type": "stream",
     "text": [
      "4.06% of courses are in the Architecture, B.Arch checksheet\n"
     ]
    }
   ],
   "source": [
    "# get the count of unique values in the DataFrame to avoid double counting courses\n",
    "tot_course_count = df['CourseName'].nunique()\n",
    "# Filter the DataFrame to select rows with 'ItemType' equal to 'Architecture, B.Arch checksheet'\n",
    "architecture_courses_df = df[df['Item'] == 'Architecture, B.Arch checksheet']\n",
    "\n",
    "# Get the count of 'Architecture, B.Arch checksheet' items\n",
    "b_arch_count = len(architecture_courses_df)\n",
    "\n",
    "proportion_b_arch = (b_arch_count / tot_course_count) * 100\n",
    "\n",
    "print(f'{round(proportion_b_arch,2)}% of courses are in the Architecture, B.Arch checksheet')"
   ]
  },
  {
   "cell_type": "markdown",
   "metadata": {},
   "source": [
    "### 6.\tWhat proportion of courses (by code) are ARC courses? \n",
    "\n",
    "***EDITED see comment to right of  ARC_courses_df variable***"
   ]
  },
  {
   "cell_type": "code",
   "execution_count": 485,
   "metadata": {},
   "outputs": [
    {
     "name": "stdout",
     "output_type": "stream",
     "text": [
      "3.3% of courses are ARC courses\n"
     ]
    }
   ],
   "source": [
    "# Filter the DataFrame to select rows with 'courseLetter' equal to 'ARC' \n",
    "ARC_courses_df = df[df['CourseLetter'] == 'ARC'].groupby('CourseName') #changed column name to 'CourseName' instead of 'courseName' to filter from the dictionary instead of associations'\n",
    "\n",
    "# Get the count of 'ARC' courses\n",
    "ARC_count = len(ARC_courses_df)\n",
    "\n",
    "proportion_ARC = (ARC_count / tot_course_count) * 100\n",
    "\n",
    "print(f'{round(proportion_ARC,2)}% of courses are ARC courses')"
   ]
  },
  {
   "cell_type": "markdown",
   "metadata": {},
   "source": [
    "### 7.\tAssuming these are independent, what proportion of courses (by code) are both in the Architecture, B.Arch checksheet and are ARC courses?\n",
    "\n",
    "***EDITED, updated to use independent intersection formula***"
   ]
  },
  {
   "cell_type": "code",
   "execution_count": 486,
   "metadata": {},
   "outputs": [
    {
     "name": "stdout",
     "output_type": "stream",
     "text": [
      "0.1342% of courses are ARC course and are in the Architecture, B.Arch checksheet\n"
     ]
    }
   ],
   "source": [
    "# assuming independece I would multiply the proportion of both ARC and B. Arch checklist and divide by total course count.\n",
    "b_Arch_ARC = ((ARC_count / tot_course_count)) * ((b_arch_count / tot_course_count)) # independent intersection formula\n",
    "\n",
    "ARC_and_b_arch = b_Arch_ARC * 100\n",
    "\n",
    "print(f'{round(ARC_and_b_arch,4)}% of courses are ARC course and are in the Architecture, B.Arch checksheet')\n"
   ]
  },
  {
   "cell_type": "markdown",
   "metadata": {},
   "source": [
    "### 8.\tWhat is the conditional probability that a given course with an ARC designation is part of the Architecture, B.Arch checksheet?\n",
    "\n",
    "***EDITED this result has been corrected given the changes in Q6***"
   ]
  },
  {
   "cell_type": "code",
   "execution_count": 487,
   "metadata": {},
   "outputs": [
    {
     "name": "stdout",
     "output_type": "stream",
     "text": [
      " the conditional probability that a given course with an ARC designation is part of the Architecture, B.Arch checksheet is 79.49%\n"
     ]
    }
   ],
   "source": [
    "# Filter the DataFrame to select rows with 'ItemType' equal to 'Architecture, B.Arch checksheet' and 'courseLetter' equal to 'ARC'\n",
    "ARC_and_b_arch_df = df[(df['courseLetter'] == 'ARC') & (df['Item'] == 'Architecture, B.Arch checksheet')]\n",
    "\n",
    "# Get the count of 'Architecture, B.Arch checksheet' item and 'ARC' courseLetter\n",
    "ARC_and_b_arch_count = len(ARC_and_b_arch_df)\n",
    "\n",
    "proportion_ARC_and_b_arch = (ARC_and_b_arch_count / tot_course_count) * 100\n",
    "\n",
    "# The conditional probability that a course with an ARC designation is part of the the Architecture, B.Arch checksheet is the proportion of both ARC and B.Arch divided by the proporation of just ARC\n",
    "cond_prob_ARC_is_b_arch = (proportion_ARC_and_b_arch / proportion_ARC) * 100\n",
    "print(f' the conditional probability that a given course with an ARC designation is part of the Architecture, B.Arch checksheet is {round(cond_prob_ARC_is_b_arch, 2)}%')"
   ]
  },
  {
   "cell_type": "markdown",
   "metadata": {},
   "source": [
    "### 9.\tWhat is the conditional probability that a given course in the Architecture, B.Arch checksheet is an ARC course?"
   ]
  },
  {
   "cell_type": "code",
   "execution_count": 488,
   "metadata": {},
   "outputs": [
    {
     "name": "stdout",
     "output_type": "stream",
     "text": [
      "the conditional probability that a given course in the Architecture, B.Arch checksheet is an ARC course 64.58%\n"
     ]
    }
   ],
   "source": [
    "# the conditional probability that a course that is part of the the Architecture, B.Arch checksheet is with an ARC designation is proportion of both ARC and B.Arch divided by the proporation of just courses on the Architecture, B.Arch checksheet\n",
    "cond_prob_b_arch_is_ARC = (proportion_ARC_and_b_arch / proportion_b_arch) * 100\n",
    "print(f'the conditional probability that a given course in the Architecture, B.Arch checksheet is an ARC course {round(cond_prob_b_arch_is_ARC,2)}%')"
   ]
  },
  {
   "cell_type": "markdown",
   "metadata": {},
   "source": [
    "### 10.\tDo the answers from 5-9 suggest that ARC courses and Architecture, B.Arch checksheet courses are independent statistically?  Why or why not."
   ]
  },
  {
   "cell_type": "markdown",
   "metadata": {},
   "source": [
    "Based on my calculations:\n",
    "* 4.06% of courses are in the Architecture, B.Arch checksheet\n",
    "* 3.3% of courses are ARC courses\n",
    "* 0.1342% of courses are ARC course and are in the Architecture, B.Arch checksheet\n",
    "* the conditional probability that a given course with an ARC designation is part of the Architecture, B.Arch checksheet is 79.49%\n",
    "* the conditional probability that a given course in the Architecture, B.Arch checksheet is an ARC course 64.58% \n",
    "\n",
    "I do not believe the ARC course and Architecture, B.Arch checksheet courses are independent statistically because if they were then the joint probability of both ARC and Architecture, B.Arch checksheet courses would be approximately equal to the product of the individual probabilities. So P(A)*P(B) != P(A and B). To further test this we can also see the P(B|A) != P(B) and P(A|B) != P(A). It seems that testing for either one of these three conditions is enough to test for independence because if one of these conditions is true then the others are true as well, hwoever it might be useful to understand all three. Below is a reference that I used for this question which summarized this concept very well for me.\n",
    "\n",
    "https://online.stat.psu.edu/stat800/lesson/how-do-we-check-independence"
   ]
  },
  {
   "cell_type": "markdown",
   "metadata": {},
   "source": [
    "### 11.\tWhat proportion of courses are a prerequisite for another course?"
   ]
  },
  {
   "cell_type": "code",
   "execution_count": 489,
   "metadata": {},
   "outputs": [
    {
     "name": "stdout",
     "output_type": "stream",
     "text": [
      "Proportion of courses that are a prerequisite for another course: 29.64%\n"
     ]
    }
   ],
   "source": [
    "# FIlter the dataframe to group by unique values in the courseName column that also have a corresponding 'Prereq' record in the 'ItemType' field.\n",
    "prereq = df[df['ItemType'] == 'Prereq'].groupby('courseName')\n",
    "# Count the unique courses that appear as prerequisites\n",
    "prereq_count = len(prereq)\n",
    "prereq_proportion = (prereq_count / tot_course_count) * 100\n",
    "print(f'Proportion of courses that are a prerequisite for another course: {round(prereq_proportion, 2)}%')\n"
   ]
  },
  {
   "cell_type": "markdown",
   "metadata": {},
   "source": [
    "### 12.\tWhat proportion of courses have at least one prerequisite?\n",
    "\n",
    "***EDITED changed column being counted. value now matches the values provided in feedback***"
   ]
  },
  {
   "cell_type": "code",
   "execution_count": 490,
   "metadata": {},
   "outputs": [
    {
     "name": "stdout",
     "output_type": "stream",
     "text": [
      "Proportion of courses that have at least one prerequisite: 66.55%\n"
     ]
    }
   ],
   "source": [
    "#simplified filtering and removed the regex from prior submission\n",
    "prereq_filtered_df = df[(df['ItemType'] == 'Prereq')]\n",
    "# count the number of unique values based on 'courseName' column to not double count courses in the filtered data frame which now holds records that have a course in the 'Item' field and 'Prereq' in the ItemType Field\n",
    "courses_with_prerequisites_count = len(prereq_filtered_df['Item'].unique())\n",
    "prereq_filtered_df_count_proportion = (courses_with_prerequisites_count / tot_course_count) * 100\n",
    "print(f'Proportion of courses that have at least one prerequisite: {round(prereq_filtered_df_count_proportion, 2)}%')\n"
   ]
  },
  {
   "cell_type": "markdown",
   "metadata": {},
   "source": [
    "### 13.\tWhat support does the dataset provide for AME courses?\n",
    "\n",
    "***EDITED used dictionary as instructed***"
   ]
  },
  {
   "cell_type": "code",
   "execution_count": 491,
   "metadata": {},
   "outputs": [
    {
     "name": "stdout",
     "output_type": "stream",
     "text": [
      "The support the dataset provides for AME courses is 0.0186\n"
     ]
    }
   ],
   "source": [
    "# Filter the DataFrame to select rows with 'courseLetter' equal to 'AME'\n",
    "AME_courses_df = df[df['CourseLetter'] == 'AME'] #changed column name to 'CourseName' instead of 'courseName' to filter from the dictionary instead of associations' \n",
    "\n",
    "# Get the count of 'AME' courses\n",
    "AME_count = len(AME_courses_df)\n",
    "\n",
    "support_x = (AME_count / tot_course_count)\n",
    "\n",
    "print(f'The support the dataset provides for AME courses is {round(support_x,4)}')"
   ]
  },
  {
   "cell_type": "markdown",
   "metadata": {},
   "source": [
    "### 14.\tWhat support does the dataset provide for crosslisted courses?"
   ]
  },
  {
   "cell_type": "code",
   "execution_count": 492,
   "metadata": {},
   "outputs": [
    {
     "name": "stdout",
     "output_type": "stream",
     "text": [
      "The support the dataset provides for corsslisted courses is 0.1812\n"
     ]
    }
   ],
   "source": [
    "# Count the number of crosslisted courses\n",
    "crossList_count = len(df_course_counts['CrossList Count'])\n",
    "# Support is calculated the same as the proportations from earlier questions. However it is presented as a ratio and is defined as the number of transactions or records containing 'x' divided byt the total number of tranasactions,\n",
    "support_y = (crossList_count / tot_course_count)\n",
    "\n",
    "print(f'The support the dataset provides for corsslisted courses is {round(support_y,4)}')"
   ]
  },
  {
   "cell_type": "markdown",
   "metadata": {},
   "source": [
    "### 15.\tWhat is the confidence that an AME course is crosslisted?\n",
    "\n",
    "***EDITED I found records that were both AME and Crosslisted and changed the formula.***"
   ]
  },
  {
   "cell_type": "code",
   "execution_count": 493,
   "metadata": {},
   "outputs": [
    {
     "name": "stdout",
     "output_type": "stream",
     "text": [
      "The confidence than an AME course is croslisted is 0.1812\n"
     ]
    }
   ],
   "source": [
    "#calculate support of both x (AME) and y(crosslisted) is calculated\n",
    "support_x_y = support_x * support_y\n",
    "\n",
    "# Calculate the confidence of AME courses being cross-listed\n",
    "confidence_x_y = support_x_y / support_x\n",
    "\n",
    "print(f'The confidence than an AME course is croslisted is {round(confidence_x_y,4)}')"
   ]
  },
  {
   "cell_type": "markdown",
   "metadata": {},
   "source": [
    "### 16.\tWhat is the lift associated with the knowledge that the course is an AME course?\n",
    "\n",
    "***made updates to notes below, the result should now be correct with the update made to question 15 also. the confidence_x_y variable is the result from Q15 and the support_y variable is the result from Q14***"
   ]
  },
  {
   "cell_type": "code",
   "execution_count": 494,
   "metadata": {},
   "outputs": [
    {
     "name": "stdout",
     "output_type": "stream",
     "text": [
      "The lift associated with the knowledge that the course is an AME course 1.0\n"
     ]
    }
   ],
   "source": [
    "#lift is calculated by dividing the Confidence by support from question 14\n",
    "lift_x_y = confidence_x_y / support_y\n",
    "print(f'The lift associated with the knowledge that the course is an AME course {round(lift_x_y,4)}')"
   ]
  }
 ],
 "metadata": {
  "kernelspec": {
   "display_name": "dse501",
   "language": "python",
   "name": "python3"
  },
  "language_info": {
   "codemirror_mode": {
    "name": "ipython",
    "version": 3
   },
   "file_extension": ".py",
   "mimetype": "text/x-python",
   "name": "python",
   "nbconvert_exporter": "python",
   "pygments_lexer": "ipython3",
   "version": "3.11.5"
  },
  "orig_nbformat": 4
 },
 "nbformat": 4,
 "nbformat_minor": 2
}

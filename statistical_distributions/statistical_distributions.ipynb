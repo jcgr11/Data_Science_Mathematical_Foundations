{
 "cells": [
  {
   "cell_type": "markdown",
   "metadata": {},
   "source": [
    "## Statistical Distirbutions: GerryMandering Case study"
   ]
  },
  {
   "cell_type": "code",
   "execution_count": 17,
   "metadata": {},
   "outputs": [],
   "source": [
    "import pandas as pd\n",
    "import scipy.stats as stats"
   ]
  },
  {
   "cell_type": "code",
   "execution_count": 18,
   "metadata": {},
   "outputs": [
    {
     "data": {
      "text/html": [
       "<div>\n",
       "<style scoped>\n",
       "    .dataframe tbody tr th:only-of-type {\n",
       "        vertical-align: middle;\n",
       "    }\n",
       "\n",
       "    .dataframe tbody tr th {\n",
       "        vertical-align: top;\n",
       "    }\n",
       "\n",
       "    .dataframe thead th {\n",
       "        text-align: right;\n",
       "    }\n",
       "</style>\n",
       "<table border=\"1\" class=\"dataframe\">\n",
       "  <thead>\n",
       "    <tr style=\"text-align: right;\">\n",
       "      <th></th>\n",
       "      <th>AVGRepC</th>\n",
       "      <th>SDRepC</th>\n",
       "      <th>Observed</th>\n",
       "      <th>AVGIBC</th>\n",
       "      <th>SDIBC</th>\n",
       "      <th>AVGIB</th>\n",
       "      <th>SDIB</th>\n",
       "      <th>IB</th>\n",
       "    </tr>\n",
       "  </thead>\n",
       "  <tbody>\n",
       "    <tr>\n",
       "      <th>AL</th>\n",
       "      <td>5.984</td>\n",
       "      <td>0.126</td>\n",
       "      <td>6</td>\n",
       "      <td>1662.906</td>\n",
       "      <td>120.154</td>\n",
       "      <td>1496.664</td>\n",
       "      <td>81.743</td>\n",
       "      <td>2129.918</td>\n",
       "    </tr>\n",
       "    <tr>\n",
       "      <th>AZ</th>\n",
       "      <td>5.821</td>\n",
       "      <td>0.516</td>\n",
       "      <td>6</td>\n",
       "      <td>1825.825</td>\n",
       "      <td>150.233</td>\n",
       "      <td>1741.417</td>\n",
       "      <td>136.338</td>\n",
       "      <td>2300.829</td>\n",
       "    </tr>\n",
       "    <tr>\n",
       "      <th>CA</th>\n",
       "      <td>12.945</td>\n",
       "      <td>1.096</td>\n",
       "      <td>11</td>\n",
       "      <td>10064.620</td>\n",
       "      <td>1296.000</td>\n",
       "      <td>7275.616</td>\n",
       "      <td>369.595</td>\n",
       "      <td>7038.968</td>\n",
       "    </tr>\n",
       "    <tr>\n",
       "      <th>CO</th>\n",
       "      <td>3.540</td>\n",
       "      <td>0.539</td>\n",
       "      <td>3</td>\n",
       "      <td>2035.459</td>\n",
       "      <td>160.413</td>\n",
       "      <td>1445.067</td>\n",
       "      <td>131.946</td>\n",
       "      <td>1631.681</td>\n",
       "    </tr>\n",
       "    <tr>\n",
       "      <th>CT</th>\n",
       "      <td>0.011</td>\n",
       "      <td>0.104</td>\n",
       "      <td>0</td>\n",
       "      <td>310.439</td>\n",
       "      <td>16.557</td>\n",
       "      <td>286.935</td>\n",
       "      <td>10.019</td>\n",
       "      <td>399.025</td>\n",
       "    </tr>\n",
       "  </tbody>\n",
       "</table>\n",
       "</div>"
      ],
      "text/plain": [
       "    AVGRepC  SDRepC  Observed     AVGIBC     SDIBC     AVGIB     SDIB  \\\n",
       "AL    5.984   0.126         6   1662.906   120.154  1496.664   81.743   \n",
       "AZ    5.821   0.516         6   1825.825   150.233  1741.417  136.338   \n",
       "CA   12.945   1.096        11  10064.620  1296.000  7275.616  369.595   \n",
       "CO    3.540   0.539         3   2035.459   160.413  1445.067  131.946   \n",
       "CT    0.011   0.104         0    310.439    16.557   286.935   10.019   \n",
       "\n",
       "          IB  \n",
       "AL  2129.918  \n",
       "AZ  2300.829  \n",
       "CA  7038.968  \n",
       "CO  1631.681  \n",
       "CT   399.025  "
      ]
     },
     "execution_count": 18,
     "metadata": {},
     "output_type": "execute_result"
    }
   ],
   "source": [
    "#read in the DSE501A3 data and set the state abbreviations as the index column\n",
    "df = pd.read_csv('gerrymandering.csv', index_col =0) \n",
    "df.head()"
   ]
  },
  {
   "cell_type": "code",
   "execution_count": 19,
   "metadata": {},
   "outputs": [],
   "source": [
    "# Calculate z-scores to prep for upcoming questions\n",
    "df['Z-Score'] = (df['Observed'] - df['AVGRepC']) / df['SDRepC']"
   ]
  },
  {
   "cell_type": "markdown",
   "metadata": {},
   "source": [
    "### Question 1: Which state delegation has the maximum z-score? & Question 2"
   ]
  },
  {
   "cell_type": "code",
   "execution_count": 20,
   "metadata": {},
   "outputs": [
    {
     "name": "stdout",
     "output_type": "stream",
     "text": [
      "Max Z-Score State: NC\n",
      "Z-Score for NC: 6.142\n"
     ]
    }
   ],
   "source": [
    "max_zscore_state = df['Z-Score'].idxmax()\n",
    "z_score_for_NC = df.loc['NC', 'Z-Score']\n",
    "print(f\"Max Z-Score State: {max_zscore_state}\")\n",
    "print(f'Z-Score for NC: {round(z_score_for_NC, 3)}')"
   ]
  },
  {
   "cell_type": "markdown",
   "metadata": {},
   "source": [
    "### Question 3: Which state delegation has the minimum z-score? & Question 4"
   ]
  },
  {
   "cell_type": "code",
   "execution_count": 21,
   "metadata": {},
   "outputs": [
    {
     "name": "stdout",
     "output_type": "stream",
     "text": [
      "Min Z-Score State: MD\n",
      "Z-Score for MD: -4.072\n"
     ]
    }
   ],
   "source": [
    "min_zscore_state = df['Z-Score'].idxmin()\n",
    "z_score_for_MD = df.loc['MD', 'Z-Score']\n",
    "print(f\"Min Z-Score State: {min_zscore_state}\")\n",
    "print(f'Z-Score for MD: {round(z_score_for_MD, 3)}')"
   ]
  },
  {
   "cell_type": "markdown",
   "metadata": {},
   "source": [
    "### Question 5: Which state delegation(s) has the closest z-score to 0?"
   ]
  },
  {
   "cell_type": "code",
   "execution_count": 22,
   "metadata": {},
   "outputs": [
    {
     "name": "stdout",
     "output_type": "stream",
     "text": [
      "States with Z-Scores Closest to 0: IA, NV\n"
     ]
    }
   ],
   "source": [
    "# Calculate the absolute differences from 0\n",
    "df['Z-Score_Diff'] = abs(df['Z-Score'] - 0)\n",
    "\n",
    "# Find states with the smallest differences (closest to 0)\n",
    "min_diff = df['Z-Score_Diff'].min()\n",
    "close_to_zero_states = df[df['Z-Score_Diff'] == min_diff].index.tolist()\n",
    "\n",
    "# Print the states\n",
    "print(f\"States with Z-Scores Closest to 0: {', '.join(close_to_zero_states)}\")\n"
   ]
  },
  {
   "cell_type": "markdown",
   "metadata": {},
   "source": [
    "### Question 6: Which state delegations (as drawn) are significantly different than their delegations as predicted by the gpMETIS algorithm?"
   ]
  },
  {
   "cell_type": "code",
   "execution_count": 23,
   "metadata": {},
   "outputs": [
    {
     "name": "stdout",
     "output_type": "stream",
     "text": [
      "States with Significant Differences: ['MD', 'MI', 'NC', 'NH', 'NJ', 'OH', 'TN', 'VA', 'WI']\n"
     ]
    }
   ],
   "source": [
    "significant_difference_threshold = 2\n",
    "significant_difference_states = df[abs(df['Z-Score']) > significant_difference_threshold].index.tolist()\n",
    "print(f\"States with Significant Differences: {significant_difference_states}\")"
   ]
  },
  {
   "cell_type": "markdown",
   "metadata": {},
   "source": [
    "### Question 7: Which states favor the Democratic party (namely the Republican delegation is significantly smaller than expected)?"
   ]
  },
  {
   "cell_type": "code",
   "execution_count": 24,
   "metadata": {},
   "outputs": [
    {
     "name": "stdout",
     "output_type": "stream",
     "text": [
      "States Favoring Democrats: CA, MD, NH, TN\n"
     ]
    }
   ],
   "source": [
    "significant_difference_threshold = 0.05  # Set the significance threshold for a one-tail test (left tail)\n",
    "\n",
    "# Find states favoring Democrats (negative z-scores for a one-tail test)\n",
    "democratic_favor_states = df[df['Z-Score'] < -stats.norm.ppf(1 - significant_difference_threshold)].index.tolist()\n",
    "\n",
    "# Print the states\n",
    "print(f\"States Favoring Democrats: {', '.join(democratic_favor_states)}\")\n"
   ]
  },
  {
   "cell_type": "markdown",
   "metadata": {},
   "source": [
    "### Question 8: Which states favor the Republican party (namely the Republican delegation is significantly larger than expected)?\n"
   ]
  },
  {
   "cell_type": "code",
   "execution_count": 25,
   "metadata": {},
   "outputs": [
    {
     "name": "stdout",
     "output_type": "stream",
     "text": [
      "States Favoring Republicans: FL, MI, NC, NJ, OH, PA, VA, WI\n"
     ]
    }
   ],
   "source": [
    "significant_difference_threshold = 0.05  # Set the significance threshold for a one-tail test (right tail)\n",
    "\n",
    "# Find states favoring Republicans (positive z-scores for a one-tail test)\n",
    "republican_favor_states = df[df['Z-Score'] > stats.norm.ppf(1 - significant_difference_threshold)].index.tolist()\n",
    "\n",
    "# Print the states\n",
    "print(f\"States Favoring Republicans: {', '.join(republican_favor_states)}\")\n"
   ]
  },
  {
   "cell_type": "markdown",
   "metadata": {},
   "source": [
    "### Question 9: Given the state boundary calculations from the algorithm in both cases, which of the states has the smallest effect size to differentiate?"
   ]
  },
  {
   "cell_type": "code",
   "execution_count": 26,
   "metadata": {},
   "outputs": [
    {
     "name": "stdout",
     "output_type": "stream",
     "text": [
      "States with Smallest Effect Size: ['MD']\n"
     ]
    }
   ],
   "source": [
    "# Calculate the effect size for each state and find the smallest one\n",
    "df['EffectSize'] = abs(df['AVGIBC'] - df['AVGIB'])\n",
    "smallest_effect_size_states = df[df['EffectSize'] == df['EffectSize'].min()].index.tolist()\n",
    "print(f\"States with Smallest Effect Size: {smallest_effect_size_states}\")"
   ]
  },
  {
   "cell_type": "markdown",
   "metadata": {},
   "source": [
    "### Question 10: Given the Lehr Formula for quick sample size estimates, which states could have their simulated district internal borders without county prioritization differentiated from their county prioritized borders in fewer than 1 sample?"
   ]
  },
  {
   "cell_type": "code",
   "execution_count": 27,
   "metadata": {},
   "outputs": [
    {
     "name": "stdout",
     "output_type": "stream",
     "text": [
      "States with Fundamentally Separated District Internal Borders = ['CA', 'IA', 'MN', 'NH', 'NY', 'PA', 'SC', 'TX', 'VA']\n"
     ]
    }
   ],
   "source": [
    "# Calculate the estimated sample sizes for each state using the Lehr Formula\n",
    "alpha = 0.05  # Set the significance level\n",
    "sample_size_threshold = 1.0  # Set the sample size threshold\n",
    "\n",
    "# Create a list to store states that meet the criteria\n",
    "states_with_fundamentally_separated_distributions = []\n",
    "\n",
    "for index, row in df.iterrows():\n",
    "    # Calculate the sample size using the Lehr Formula\n",
    "    sample_size = 21 / ((row['EffectSize'] / row['SDIB']) ** 2)\n",
    "\n",
    "    # Check if the sample size is less than the threshold\n",
    "    if sample_size < sample_size_threshold:\n",
    "        states_with_fundamentally_separated_distributions.append(index)\n",
    "\n",
    "# Print the states\n",
    "print(\"States with Fundamentally Separated District Internal Borders =\", states_with_fundamentally_separated_distributions)\n"
   ]
  },
  {
   "cell_type": "markdown",
   "metadata": {},
   "source": [
    "### Question 11: Is the power calculation symmetric for the types of district drawing algorithm priorities?"
   ]
  },
  {
   "cell_type": "code",
   "execution_count": 28,
   "metadata": {},
   "outputs": [
    {
     "name": "stdout",
     "output_type": "stream",
     "text": [
      "Power Calculation: False\n"
     ]
    }
   ],
   "source": [
    "power_threshold = 0.9\n",
    "\n",
    "z_alpha = stats.norm.ppf(1 - alpha/2)\n",
    "power_with_prioritization = 1 - stats.norm.cdf(-z_alpha - (abs(df['AVGIBC'] - df['AVGIB']) / df['SDIBC']))\n",
    "power_without_prioritization = 1 - stats.norm.cdf(-z_alpha - (abs(df['AVGIBC'] - df['AVGIB']) / df['SDIB']))\n",
    "\n",
    "mean_power_with_prioritization = power_with_prioritization.mean()\n",
    "mean_power_without_prioritization = power_without_prioritization.mean()\n",
    "symmetry_threshold = 0.05\n",
    "\n",
    "power_calculation_asymmetric = abs(mean_power_with_prioritization - mean_power_without_prioritization) >= symmetry_threshold\n",
    "print(f\"Power Calculation: {power_calculation_asymmetric}\")"
   ]
  },
  {
   "cell_type": "markdown",
   "metadata": {},
   "source": [
    "### Question 12: If the answer to the previous question is no, find the state that has the biggest difference."
   ]
  },
  {
   "cell_type": "code",
   "execution_count": 29,
   "metadata": {},
   "outputs": [
    {
     "name": "stdout",
     "output_type": "stream",
     "text": [
      "State with the biggest power difference: NV\n"
     ]
    }
   ],
   "source": [
    "# Calculate the critical value for the county prioritized distribution\n",
    "county_prioritized_mean = df['AVGIBC']\n",
    "county_prioritized_std = df['SDIBC']\n",
    "county_prioritized_critical_value = stats.norm.ppf(1 - alpha)\n",
    "\n",
    "# Calculate the critical value for the non-county prioritized distribution\n",
    "non_county_prioritized_mean = df['AVGIB']\n",
    "non_county_prioritized_std = df['SDIB']\n",
    "non_county_prioritized_critical_value = stats.norm.ppf(1 - alpha)\n",
    "\n",
    "# Calculate the power for both scenarios\n",
    "power_with_county_prioritization = 1 - stats.norm.cdf(county_prioritized_critical_value, loc=non_county_prioritized_mean, scale=non_county_prioritized_std)\n",
    "power_without_county_prioritization = 1 - stats.norm.cdf(non_county_prioritized_critical_value, loc=county_prioritized_mean, scale=county_prioritized_std)\n",
    "\n",
    "# Calculate the power difference\n",
    "power_difference = abs(power_with_county_prioritization - power_without_county_prioritization)\n",
    "\n",
    "# Find the state with the biggest power difference\n",
    "max_power_difference_state = df.index[power_difference.argmax()]\n",
    "\n",
    "# Print the state with the biggest power difference\n",
    "print(f\"State with the biggest power difference: {max_power_difference_state}\")\n"
   ]
  },
  {
   "cell_type": "markdown",
   "metadata": {},
   "source": [
    "### Question 13: Which state's boundary measures are most differentiable, namely they have the highest power in both power calculations?"
   ]
  },
  {
   "cell_type": "code",
   "execution_count": 30,
   "metadata": {},
   "outputs": [
    {
     "name": "stdout",
     "output_type": "stream",
     "text": [
      "States with the highest power in both calculations: ['NH']\n"
     ]
    }
   ],
   "source": [
    "# Find states with the highest power in both calculations\n",
    "max_power_with_prioritization = power_with_prioritization.max()\n",
    "max_power_without_prioritization = power_without_prioritization.max()\n",
    "states_with_highest_power_both = df[\n",
    "    (power_with_prioritization == max_power_with_prioritization) &\n",
    "    (power_without_prioritization == max_power_without_prioritization)\n",
    "]\n",
    "\n",
    "if not states_with_highest_power_both.empty:\n",
    "    states_with_highest_power_both_names = states_with_highest_power_both.index.tolist()\n",
    "    print(f\"States with the highest power in both calculations: {states_with_highest_power_both_names}\")\n",
    "else:\n",
    "    print(\"No states with the highest power in both calculations found.\")"
   ]
  },
  {
   "cell_type": "markdown",
   "metadata": {},
   "source": [
    "### Question 14: Which state has the highest potential for Type II error between both boundary drawing procedures?"
   ]
  },
  {
   "cell_type": "code",
   "execution_count": 31,
   "metadata": {},
   "outputs": [
    {
     "name": "stdout",
     "output_type": "stream",
     "text": [
      "State with the highest potential for Type II error: TN\n"
     ]
    }
   ],
   "source": [
    "# Calculate Type II error for both procedures\n",
    "type_2_error_with_prioritization = 1 - power_with_prioritization\n",
    "type_2_error_without_prioritization = 1 - power_without_prioritization\n",
    "\n",
    "# Calculate the combined Type II error for each state\n",
    "combined_type_2_error = type_2_error_with_prioritization + type_2_error_without_prioritization\n",
    "\n",
    "# Find the state with the highest combined Type II error\n",
    "max_combined_type_2_error_state = df.index[combined_type_2_error.argmax()]\n",
    "\n",
    "# Print the state with the highest potential for Type II error\n",
    "print(f\"State with the highest potential for Type II error: {max_combined_type_2_error_state}\")\n"
   ]
  },
  {
   "cell_type": "code",
   "execution_count": 1,
   "metadata": {},
   "outputs": [
    {
     "name": "stdout",
     "output_type": "stream",
     "text": [
      "!dlroW ,olleH\n"
     ]
    }
   ],
   "source": [
    "# Method 1: Using string slicing\n",
    "original_string = \"Hello, World!\"\n",
    "reversed_string = original_string[::-1]\n",
    "print(reversed_string)"
   ]
  }
 ],
 "metadata": {
  "kernelspec": {
   "display_name": "dse501",
   "language": "python",
   "name": "python3"
  },
  "language_info": {
   "codemirror_mode": {
    "name": "ipython",
    "version": 3
   },
   "file_extension": ".py",
   "mimetype": "text/x-python",
   "name": "python",
   "nbconvert_exporter": "python",
   "pygments_lexer": "ipython3",
   "version": "3.11.5"
  },
  "orig_nbformat": 4
 },
 "nbformat": 4,
 "nbformat_minor": 2
}

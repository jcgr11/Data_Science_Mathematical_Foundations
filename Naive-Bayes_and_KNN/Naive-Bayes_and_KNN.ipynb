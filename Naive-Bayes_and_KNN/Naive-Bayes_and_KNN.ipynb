{
 "cells": [
  {
   "cell_type": "code",
   "execution_count": 1987,
   "metadata": {},
   "outputs": [
    {
     "name": "stdout",
     "output_type": "stream",
     "text": [
      "333\n"
     ]
    }
   ],
   "source": [
    "import pandas as pd\n",
    "import numpy as np\n",
    "from scipy.stats import norm\n",
    "import math\n",
    "\n",
    "# Read the data\n",
    "df = pd.read_csv('NutritionFacts.csv')\n",
    "print(len(df))\n",
    "\n",
    "# clean data, so the Grams and Calories columns do not have commas and are floating point numbers\n",
    "df['Calories'] = df['Calories'].str.replace(',', '').astype(float)\n",
    "df['Grams'] = df['Grams'].str.replace(',', '').astype(float)\n",
    "# convert Proteint and Fat columns to floating point numbers\n",
    "df['Protein'] = df['Protein'].astype(float)\n",
    "df['Fat'] = df['Fat'].astype(float)\n",
    "# Fill all NaN values in the DataFrame with 0 because there is a blank value in the calories column and the sat.fat column which will cause issues\n",
    "df.fillna(0, inplace=True)\n"
   ]
  },
  {
   "cell_type": "markdown",
   "metadata": {},
   "source": [
    "### Question 1 \n",
    "Consider the peanut butter row.\n",
    "Order the nutritional contents by units/gram from largest to smallest.\n"
   ]
  },
  {
   "cell_type": "code",
   "execution_count": 1988,
   "metadata": {},
   "outputs": [
    {
     "data": {
      "text/plain": [
       "Food         Peanut butter\n",
       "Grams                 50.0\n",
       "Calories             300.0\n",
       "Protein               12.0\n",
       "Fat                   25.0\n",
       "Sat.Fat               17.0\n",
       "Fiber                  0.9\n",
       "Carbs                  9.0\n",
       "Category    Seeds and Nuts\n",
       "Name: 246, dtype: object"
      ]
     },
     "execution_count": 1988,
     "metadata": {},
     "output_type": "execute_result"
    }
   ],
   "source": [
    "# Find peanut butter row index\n",
    "butter_index = df[df['Food'] == 'Peanut butter'].index[0]\n",
    "# Verify that the row index is correct\n",
    "df.iloc[butter_index]"
   ]
  },
  {
   "cell_type": "code",
   "execution_count": 1989,
   "metadata": {},
   "outputs": [
    {
     "data": {
      "text/plain": [
       "Fat        25.0\n",
       "Sat.Fat    17.0\n",
       "Protein    12.0\n",
       "Carbs       9.0\n",
       "Fiber       0.9\n",
       "Name: 246, dtype: object"
      ]
     },
     "execution_count": 1989,
     "metadata": {},
     "output_type": "execute_result"
    }
   ],
   "source": [
    "# Order the nutritional contents (Fiber, Protein, Fat, Carbohydrates, Saturated Fat) by units/gram from largest to smallest for the peanut butter row.\n",
    "df.loc[butter_index, ['Fiber', 'Protein', 'Fat', 'Carbs', 'Sat.Fat']].sort_values(ascending=False)"
   ]
  },
  {
   "cell_type": "markdown",
   "metadata": {},
   "source": [
    "### Question 2 \n",
    " \n",
    "Which food has the maximum calories per gram (lowercase please)?\n"
   ]
  },
  {
   "cell_type": "code",
   "execution_count": 1990,
   "metadata": {},
   "outputs": [
    {
     "data": {
      "text/plain": [
       "Food                                    Lard\n",
       "Grams                                  110.0\n",
       "Calories                               992.0\n",
       "Protein                                  0.0\n",
       "Fat                                    110.0\n",
       "Sat.Fat                                 92.0\n",
       "Fiber                                    0.0\n",
       "Carbs                                    0.0\n",
       "Category             Fats, Oils, Shortenings\n",
       "Calories_per_gram                   9.018182\n",
       "Name: 117, dtype: object"
      ]
     },
     "execution_count": 1990,
     "metadata": {},
     "output_type": "execute_result"
    }
   ],
   "source": [
    "# Maximum calories per gram\n",
    "df['Calories_per_gram'] = df['Calories'] / df['Grams']\n",
    "df.loc[df['Calories_per_gram'].idxmax()]"
   ]
  },
  {
   "cell_type": "markdown",
   "metadata": {},
   "source": [
    "### Question 3\n",
    "Find the two most imbalanced units/gram (i.e., the ones with the largest max and the smallest max).  The ratio from the largest to the smallest (to three decimal places) is:"
   ]
  },
  {
   "cell_type": "code",
   "execution_count": 1991,
   "metadata": {},
   "outputs": [
    {
     "data": {
      "text/plain": [
       "25.436"
      ]
     },
     "execution_count": 1991,
     "metadata": {},
     "output_type": "execute_result"
    }
   ],
   "source": [
    "# Calculate the maximum values for each nutritional content after normalizing by grams\n",
    "# Normalize all values\n",
    "columns_to_normalize = ['Calories', 'Fiber', 'Protein', 'Fat', 'Carbs', 'Sat.Fat']\n",
    "\n",
    "# Normalize all columns by dividing by 'Grams'\n",
    "for column in columns_to_normalize:\n",
    "    df[column] = df[column] / df['Grams']\n",
    "\n",
    "max_values = df[['Calories', 'Protein', 'Fat', 'Sat.Fat', 'Fiber', 'Carbs']].max()\n",
    "\n",
    "# Find the largest and smallest maximum values\n",
    "largest_max = max_values.max()\n",
    "smallest_max = max_values.min()\n",
    "\n",
    "# Calculate ratio from the largest to the smallest (to three decimal places)\n",
    "imbalanced_ratio = round(largest_max / smallest_max, 3)\n",
    "\n",
    "# Output the result\n",
    "imbalanced_ratio\n"
   ]
  },
  {
   "cell_type": "markdown",
   "metadata": {},
   "source": [
    "### Question 4\n",
    "The distance from macaroni to cheddar cheese (to three decimal places) is:"
   ]
  },
  {
   "cell_type": "code",
   "execution_count": 1992,
   "metadata": {},
   "outputs": [
    {
     "name": "stdout",
     "output_type": "stream",
     "text": [
      "Distance between macaroni and cheddar: 3.060\n"
     ]
    }
   ],
   "source": [
    "# Define row indices for 'macaroni' and 'cheddar' or use actual row indices\n",
    "macaroni_index = df[df['Food'] == 'Macaroni'].index[0]\n",
    "cheddar_index = df[df['Food'] == 'Cheddar'].index[0]\n",
    "\n",
    "# Define columns for the nutritional values (Protein, Fat, Sat.Fat, Fiber, Carbs)\n",
    "columns = ['Calories', 'Protein', 'Fat', 'Sat.Fat', 'Fiber', 'Carbs']\n",
    "\n",
    "# Initialize distance\n",
    "distance = 0.0\n",
    "\n",
    "# Calculate distance based on excel formula logic in NHL example\n",
    "for column in columns:\n",
    "    diff = df.at[macaroni_index, column] - df.at[cheddar_index, column]\n",
    "    distance += diff**2\n",
    "\n",
    "distance = math.sqrt(distance)\n",
    "\n",
    "print(f\"Distance between macaroni and cheddar: {distance:.3f}\")"
   ]
  },
  {
   "cell_type": "markdown",
   "metadata": {},
   "source": [
    "### Question 5\n",
    "The point of KNN is to invoke a democratic principle to classifying a group.  Brussels Sprouts are a vegetable.  What is the largest k such that for all n <= k, the majority of the votes are for vegetable, but for k + 1, the vote does not have a majority for vegetable.\n",
    "\n",
    "For the purposes of this question, a majority is more than 50% of the votes."
   ]
  },
  {
   "cell_type": "code",
   "execution_count": 1993,
   "metadata": {},
   "outputs": [
    {
     "data": {
      "text/html": [
       "<div>\n",
       "<style scoped>\n",
       "    .dataframe tbody tr th:only-of-type {\n",
       "        vertical-align: middle;\n",
       "    }\n",
       "\n",
       "    .dataframe tbody tr th {\n",
       "        vertical-align: top;\n",
       "    }\n",
       "\n",
       "    .dataframe thead th {\n",
       "        text-align: right;\n",
       "    }\n",
       "</style>\n",
       "<table border=\"1\" class=\"dataframe\">\n",
       "  <thead>\n",
       "    <tr style=\"text-align: right;\">\n",
       "      <th></th>\n",
       "      <th>Food</th>\n",
       "      <th>Grams</th>\n",
       "      <th>Calories</th>\n",
       "      <th>Protein</th>\n",
       "      <th>Fat</th>\n",
       "      <th>Sat.Fat</th>\n",
       "      <th>Fiber</th>\n",
       "      <th>Carbs</th>\n",
       "      <th>Category</th>\n",
       "      <th>Calories_per_gram</th>\n",
       "      <th>Distance_Formula_Result</th>\n",
       "      <th>Rank</th>\n",
       "    </tr>\n",
       "  </thead>\n",
       "  <tbody>\n",
       "    <tr>\n",
       "      <th>0</th>\n",
       "      <td>Biscuits</td>\n",
       "      <td>38.0</td>\n",
       "      <td>3.421053</td>\n",
       "      <td>0.078947</td>\n",
       "      <td>0.105263</td>\n",
       "      <td>0.078947</td>\n",
       "      <td>0.000000</td>\n",
       "      <td>0.473684</td>\n",
       "      <td>Breads, cereals, fastfood,grains</td>\n",
       "      <td>3.421053</td>\n",
       "      <td>2.987094</td>\n",
       "      <td>260.0</td>\n",
       "    </tr>\n",
       "    <tr>\n",
       "      <th>1</th>\n",
       "      <td>Bran flakes</td>\n",
       "      <td>25.0</td>\n",
       "      <td>4.680000</td>\n",
       "      <td>0.120000</td>\n",
       "      <td>0.000000</td>\n",
       "      <td>0.000000</td>\n",
       "      <td>0.004000</td>\n",
       "      <td>1.280000</td>\n",
       "      <td>Breads, cereals, fastfood,grains</td>\n",
       "      <td>4.680000</td>\n",
       "      <td>4.383100</td>\n",
       "      <td>304.0</td>\n",
       "    </tr>\n",
       "    <tr>\n",
       "      <th>2</th>\n",
       "      <td>Bread, cracked wheat</td>\n",
       "      <td>23.0</td>\n",
       "      <td>2.608696</td>\n",
       "      <td>0.086957</td>\n",
       "      <td>0.043478</td>\n",
       "      <td>0.043478</td>\n",
       "      <td>0.004348</td>\n",
       "      <td>0.521739</td>\n",
       "      <td>Breads, cereals, fastfood,grains</td>\n",
       "      <td>2.608696</td>\n",
       "      <td>2.190940</td>\n",
       "      <td>228.0</td>\n",
       "    </tr>\n",
       "    <tr>\n",
       "      <th>3</th>\n",
       "      <td>Rye</td>\n",
       "      <td>23.0</td>\n",
       "      <td>2.391304</td>\n",
       "      <td>0.086957</td>\n",
       "      <td>0.043478</td>\n",
       "      <td>0.043478</td>\n",
       "      <td>0.004348</td>\n",
       "      <td>0.521739</td>\n",
       "      <td>Breads, cereals, fastfood,grains</td>\n",
       "      <td>2.391304</td>\n",
       "      <td>1.978365</td>\n",
       "      <td>214.0</td>\n",
       "    </tr>\n",
       "    <tr>\n",
       "      <th>4</th>\n",
       "      <td>White, 20 slices, or</td>\n",
       "      <td>454.0</td>\n",
       "      <td>2.698238</td>\n",
       "      <td>0.085903</td>\n",
       "      <td>0.033040</td>\n",
       "      <td>0.026432</td>\n",
       "      <td>0.019824</td>\n",
       "      <td>0.504405</td>\n",
       "      <td>Breads, cereals, fastfood,grains</td>\n",
       "      <td>2.698238</td>\n",
       "      <td>2.275097</td>\n",
       "      <td>232.0</td>\n",
       "    </tr>\n",
       "  </tbody>\n",
       "</table>\n",
       "</div>"
      ],
      "text/plain": [
       "                   Food  Grams  Calories   Protein       Fat   Sat.Fat  \\\n",
       "0              Biscuits   38.0  3.421053  0.078947  0.105263  0.078947   \n",
       "1           Bran flakes   25.0  4.680000  0.120000  0.000000  0.000000   \n",
       "2  Bread, cracked wheat   23.0  2.608696  0.086957  0.043478  0.043478   \n",
       "3                   Rye   23.0  2.391304  0.086957  0.043478  0.043478   \n",
       "4  White, 20 slices, or  454.0  2.698238  0.085903  0.033040  0.026432   \n",
       "\n",
       "      Fiber     Carbs                          Category  Calories_per_gram  \\\n",
       "0  0.000000  0.473684  Breads, cereals, fastfood,grains           3.421053   \n",
       "1  0.004000  1.280000  Breads, cereals, fastfood,grains           4.680000   \n",
       "2  0.004348  0.521739  Breads, cereals, fastfood,grains           2.608696   \n",
       "3  0.004348  0.521739  Breads, cereals, fastfood,grains           2.391304   \n",
       "4  0.019824  0.504405  Breads, cereals, fastfood,grains           2.698238   \n",
       "\n",
       "   Distance_Formula_Result   Rank  \n",
       "0                 2.987094  260.0  \n",
       "1                 4.383100  304.0  \n",
       "2                 2.190940  228.0  \n",
       "3                 1.978365  214.0  \n",
       "4                 2.275097  232.0  "
      ]
     },
     "execution_count": 1993,
     "metadata": {},
     "output_type": "execute_result"
    }
   ],
   "source": [
    "# Replicate distance formula from NHL example\n",
    "def Distance_formula(row, reference_row, columns_to_use):\n",
    "    squared_diff_sum = sum((row[col] - reference_row[col])**2 for col in columns_to_use)\n",
    "    return np.sqrt(squared_diff_sum)\n",
    "\n",
    "# Define the target row number for the reference row\n",
    "N1 = df[df['Food'] == 'Brussels sprouts'].index[0]\n",
    "\n",
    "# Extract the reference row\n",
    "reference_row = df.iloc[N1]\n",
    "\n",
    "# Define the columns to use in the formula\n",
    "columns_to_use = ['Calories', 'Protein', 'Fat', 'Sat.Fat', 'Fiber', 'Carbs']\n",
    "\n",
    "# Calculate the custom formula for each row\n",
    "df['Distance_Formula_Result'] = df.apply(Distance_formula, axis=1, reference_row=reference_row, columns_to_use=columns_to_use)\n",
    "\n",
    "# Add a new column for ranking\n",
    "df['Rank'] = df['Distance_Formula_Result'].rank()\n",
    "df.head()"
   ]
  },
  {
   "cell_type": "code",
   "execution_count": 1994,
   "metadata": {},
   "outputs": [
    {
     "data": {
      "text/html": [
       "<div>\n",
       "<style scoped>\n",
       "    .dataframe tbody tr th:only-of-type {\n",
       "        vertical-align: middle;\n",
       "    }\n",
       "\n",
       "    .dataframe tbody tr th {\n",
       "        vertical-align: top;\n",
       "    }\n",
       "\n",
       "    .dataframe thead th {\n",
       "        text-align: right;\n",
       "    }\n",
       "</style>\n",
       "<table border=\"1\" class=\"dataframe\">\n",
       "  <thead>\n",
       "    <tr style=\"text-align: right;\">\n",
       "      <th></th>\n",
       "      <th>Category</th>\n",
       "      <th>Result</th>\n",
       "      <th>Percentage</th>\n",
       "    </tr>\n",
       "  </thead>\n",
       "  <tbody>\n",
       "    <tr>\n",
       "      <th>0</th>\n",
       "      <td>Breads, cereals, fastfood,grains</td>\n",
       "      <td>1</td>\n",
       "      <td>16.666667</td>\n",
       "    </tr>\n",
       "    <tr>\n",
       "      <th>1</th>\n",
       "      <td>Dairy products</td>\n",
       "      <td>0</td>\n",
       "      <td>0.000000</td>\n",
       "    </tr>\n",
       "    <tr>\n",
       "      <th>2</th>\n",
       "      <td>Desserts, sweets</td>\n",
       "      <td>0</td>\n",
       "      <td>0.000000</td>\n",
       "    </tr>\n",
       "    <tr>\n",
       "      <th>3</th>\n",
       "      <td>Drinks,Alcohol, Beverages</td>\n",
       "      <td>0</td>\n",
       "      <td>0.000000</td>\n",
       "    </tr>\n",
       "    <tr>\n",
       "      <th>4</th>\n",
       "      <td>Fats, Oils, Shortenings</td>\n",
       "      <td>0</td>\n",
       "      <td>0.000000</td>\n",
       "    </tr>\n",
       "    <tr>\n",
       "      <th>5</th>\n",
       "      <td>Fish, Seafood</td>\n",
       "      <td>0</td>\n",
       "      <td>0.000000</td>\n",
       "    </tr>\n",
       "    <tr>\n",
       "      <th>6</th>\n",
       "      <td>Fruits</td>\n",
       "      <td>2</td>\n",
       "      <td>33.333333</td>\n",
       "    </tr>\n",
       "    <tr>\n",
       "      <th>7</th>\n",
       "      <td>Jams, Jellies</td>\n",
       "      <td>0</td>\n",
       "      <td>0.000000</td>\n",
       "    </tr>\n",
       "    <tr>\n",
       "      <th>8</th>\n",
       "      <td>Meat, Poultry</td>\n",
       "      <td>0</td>\n",
       "      <td>0.000000</td>\n",
       "    </tr>\n",
       "    <tr>\n",
       "      <th>9</th>\n",
       "      <td>Seeds and Nuts</td>\n",
       "      <td>0</td>\n",
       "      <td>0.000000</td>\n",
       "    </tr>\n",
       "    <tr>\n",
       "      <th>10</th>\n",
       "      <td>Soups</td>\n",
       "      <td>0</td>\n",
       "      <td>0.000000</td>\n",
       "    </tr>\n",
       "    <tr>\n",
       "      <th>11</th>\n",
       "      <td>Vegetables</td>\n",
       "      <td>3</td>\n",
       "      <td>50.000000</td>\n",
       "    </tr>\n",
       "  </tbody>\n",
       "</table>\n",
       "</div>"
      ],
      "text/plain": [
       "                            Category  Result  Percentage\n",
       "0   Breads, cereals, fastfood,grains       1   16.666667\n",
       "1                     Dairy products       0    0.000000\n",
       "2                   Desserts, sweets       0    0.000000\n",
       "3          Drinks,Alcohol, Beverages       0    0.000000\n",
       "4            Fats, Oils, Shortenings       0    0.000000\n",
       "5                      Fish, Seafood       0    0.000000\n",
       "6                             Fruits       2   33.333333\n",
       "7                      Jams, Jellies       0    0.000000\n",
       "8                      Meat, Poultry       0    0.000000\n",
       "9                     Seeds and Nuts       0    0.000000\n",
       "10                             Soups       0    0.000000\n",
       "11                        Vegetables       3   50.000000"
      ]
     },
     "execution_count": 1994,
     "metadata": {},
     "output_type": "execute_result"
    }
   ],
   "source": [
    "# Initialize the unique categories for the 'Category' column\n",
    "unique_categories = df['Category'].unique()\n",
    "k = 6 # attempt k = 1 to k = 10 until percentage in output DF = 50% for vegetables\n",
    "x = k + 1\n",
    "results = []\n",
    "\n",
    "# Replicate countifs() function from Excel to find the counts for each category based on distance formula values, target row and k+1 to find the largest k such that for all n <= k, the majority of the votes are for vegetable, but for k + 1, the vote does not have a majority for vegetable.\n",
    "for category in unique_categories:\n",
    "    count1 = df[(df['Rank'] <= x) & (df['Category'] == category)].shape[0]\n",
    "    count2 = df[(df['Rank'] == 1) & (df['Category'] == category)].shape[0]\n",
    "    result = count1 - count2\n",
    "    results.append(result)\n",
    "\n",
    "# Create a new DataFrame with the results for each category\n",
    "category_counts = pd.DataFrame({'Category': unique_categories, 'Result': results})\n",
    "\n",
    "# Calculate the percentage for each category to find the largest k value where Vegetables = 50%\n",
    "category_counts['Percentage'] = (category_counts['Result'] / category_counts['Result'].sum()) * 100\n",
    "\n",
    "category_counts"
   ]
  },
  {
   "cell_type": "markdown",
   "metadata": {},
   "source": [
    "### Question 6\n",
    "The rule of thumb for the number of k we should consult in a KNN process is defined by the length of the dataset in question.  What is the appropriate number for k with this dataset (truncate the value)?"
   ]
  },
  {
   "cell_type": "code",
   "execution_count": 1995,
   "metadata": {},
   "outputs": [
    {
     "data": {
      "text/plain": [
       "9.12414379544733"
      ]
     },
     "execution_count": 1995,
     "metadata": {},
     "output_type": "execute_result"
    }
   ],
   "source": [
    "num_data_points = len(df)  # number of data points\n",
    "k_approximate = math.sqrt(num_data_points) / 2\n",
    "k_approximate"
   ]
  },
  {
   "cell_type": "markdown",
   "metadata": {},
   "source": [
    "### Question 7 \n",
    "Tomatoes are the quintessential confusing vegetable because they are technically a fruit by definition.\n",
    "\n",
    "For what value of k do we find the first fruit similar to tomatoes?"
   ]
  },
  {
   "cell_type": "code",
   "execution_count": 1996,
   "metadata": {},
   "outputs": [
    {
     "name": "stdout",
     "output_type": "stream",
     "text": [
      "k = 12\n"
     ]
    }
   ],
   "source": [
    "# Find the row number for tomatoes\n",
    "tomatoes_row = df[df['Food'] == 'Tomatoes'].index[0]\n",
    "\n",
    "# Extract the reference row for tomatoes\n",
    "reference_tomatoes = df.iloc[tomatoes_row]\n",
    "\n",
    "first_fruit = None\n",
    "k = 1\n",
    "\n",
    "while first_fruit is None:\n",
    "    df['Similarity'] = df.apply(Distance_formula, axis=1, reference_row=reference_tomatoes, columns_to_use=columns_to_use)\n",
    "    df['Rank'] = df['Similarity'].rank()\n",
    "    similar_fruits = df[(df['Rank'] <= k) & (df['Category'] == 'Fruits')]\n",
    "\n",
    "    if len(similar_fruits) > 0:\n",
    "        first_fruit = similar_fruits.iloc[0]['Food']\n",
    "    else:\n",
    "        k += 1\n",
    "\n",
    "print(f\"k = {k-1}\")"
   ]
  },
  {
   "cell_type": "markdown",
   "metadata": {},
   "source": [
    "### Question 8\n",
    "Which measures have an average value per gram of greater than 0 for every group?"
   ]
  },
  {
   "cell_type": "code",
   "execution_count": 1997,
   "metadata": {},
   "outputs": [
    {
     "name": "stdout",
     "output_type": "stream",
     "text": [
      "Measures with an average value per gram greater than 0 for every group:\n",
      "['Calories', 'Carbs']\n"
     ]
    }
   ],
   "source": [
    "# Group the data by 'Category'\n",
    "grouped = df.groupby('Category')\n",
    "\n",
    "# List of column names (measures) to check\n",
    "columns_to_check = ['Calories', 'Protein', 'Fat', 'Sat.Fat', 'Fiber', 'Carbs']\n",
    "\n",
    "# List to store measures with average > 0 for every group\n",
    "measures_with_avg_gt_0 = []\n",
    "\n",
    "# Iterate through each column\n",
    "for column in columns_to_check:\n",
    "    # Check if the average value per gram is greater than 0 for every group\n",
    "    if all(group[column].mean() > 0 for name, group in grouped):\n",
    "        measures_with_avg_gt_0.append(column)\n",
    "\n",
    "print(\"Measures with an average value per gram greater than 0 for every group:\")\n",
    "print(measures_with_avg_gt_0)\n"
   ]
  },
  {
   "cell_type": "markdown",
   "metadata": {},
   "source": [
    "### Question 9\n",
    "For each group, choose the measure that has the highest standard deviation."
   ]
  },
  {
   "cell_type": "code",
   "execution_count": 1998,
   "metadata": {},
   "outputs": [
    {
     "name": "stdout",
     "output_type": "stream",
     "text": [
      "Measure with the highest standard deviation for each group:\n",
      "Group: Breads, cereals, fastfood,grains, Measure: Carbs\n",
      "Group: Dairy products, Measure: Carbs\n",
      "Group: Desserts, sweets, Measure: Carbs\n",
      "Group: Drinks,Alcohol, Beverages, Measure: Carbs\n",
      "Group: Fats, Oils, Shortenings, Measure: Sat.Fat\n",
      "Group: Fish, Seafood, Measure: Protein\n",
      "Group: Fruits, Measure: Carbs\n",
      "Group: Jams, Jellies, Measure: Fiber\n",
      "Group: Meat, Poultry, Measure: Fat\n",
      "Group: Seeds and Nuts, Measure: Sat.Fat\n",
      "Group: Soups, Measure: Carbs\n",
      "Group: Vegetables, Measure: Carbs\n"
     ]
    }
   ],
   "source": [
    "# Group the data by 'Category'\n",
    "grouped = df.groupby('Category')\n",
    "\n",
    "# List of column names (measures) to check\n",
    "columns_to_check = ['Protein', 'Fat', 'Sat.Fat', 'Fiber', 'Carbs']\n",
    "\n",
    "# Dictionary to store the measure with the highest standard deviation for each group\n",
    "highest_std_measures = {}\n",
    "\n",
    "# Iterate through each group\n",
    "for name, group in grouped:\n",
    "    highest_std_measure = None\n",
    "    highest_std_value = -1  # Initialize with a low value\n",
    "    \n",
    "    # Iterate through each column to find the highest standard deviation\n",
    "    for column in columns_to_check:\n",
    "        std = group[column].std()\n",
    "        if std > highest_std_value:\n",
    "            highest_std_value = std\n",
    "            highest_std_measure = column\n",
    "    \n",
    "    highest_std_measures[name] = highest_std_measure\n",
    "\n",
    "print(\"Measure with the highest standard deviation for each group:\")\n",
    "for name, measure in highest_std_measures.items():\n",
    "    print(f\"Group: {name}, Measure: {measure}\")\n"
   ]
  },
  {
   "cell_type": "markdown",
   "metadata": {},
   "source": [
    "### Question 10\n",
    "Which food has the highest vegetable Naive Bayes classifier numerator?\n",
    "### Question 11\n",
    "Of the fruits, which fruit has the lowest Naive Bayes classifier numerator?"
   ]
  },
  {
   "cell_type": "code",
   "execution_count": 1999,
   "metadata": {},
   "outputs": [
    {
     "name": "stdout",
     "output_type": "stream",
     "text": [
      "Q10: Corresponding Vegetable: heated peas\n",
      "Q11: Corresponding Fruit: OlivesRipe\n"
     ]
    },
    {
     "name": "stderr",
     "output_type": "stream",
     "text": [
      "c:\\Users\\garci\\anaconda3\\envs\\dse501\\Lib\\site-packages\\scipy\\stats\\_distn_infrastructure.py:1983: RuntimeWarning: invalid value encountered in divide\n",
      "  x = np.asarray((x - loc)/scale, dtype=dtyp)\n"
     ]
    }
   ],
   "source": [
    "# Define the columns to analyze\n",
    "columns_to_analyze = ['Calories', 'Protein', 'Fat', 'Sat.Fat', 'Fiber', 'Carbs']\n",
    "\n",
    "# Calculate conditional average and standard deviation\n",
    "conditional_stats = df.groupby('Category')[columns_to_analyze].agg(['mean', 'std'])\n",
    "conditional_stats.columns = [f\"{col}_{stat}\" for col, stat in conditional_stats.columns]\n",
    "\n",
    "# Calculate the Naive Bayes numerators\n",
    "naive_bayes_numerators = []\n",
    "\n",
    "# Iterate through each food item\n",
    "for _, row in df.iterrows():\n",
    "    numerator = 1.0\n",
    "\n",
    "    # Iterate through each column (measure/gram)\n",
    "    for col in columns_to_analyze:\n",
    "        mean = conditional_stats.loc[row['Category'], f\"{col}_mean\"]\n",
    "        std = conditional_stats.loc[row['Category'], f\"{col}_std\"]\n",
    "        value = row[col]\n",
    "        \n",
    "        # Calculate the PDF for the value based on the specific mean and standard deviation\n",
    "        pdf_value = norm.pdf(value, loc=mean, scale=std)\n",
    "        \n",
    "        # Multiply the PDF value to the numerator\n",
    "        numerator *= pdf_value\n",
    "\n",
    "    # Multiply by the number of fruits and dataset size\n",
    "    if row['Category'] == 'Fruits':\n",
    "        numerator *= len(df)\n",
    "\n",
    "    naive_bayes_numerators.append(numerator)\n",
    "\n",
    "# Add the Naive Bayes numerators to the DataFrame\n",
    "df['Naive_Bayes_Numerator'] = naive_bayes_numerators\n",
    "\n",
    "# Find the highest vegetable Naive Bayes classifier numerator and the corresponding vegetable\n",
    "vegetable_max_row = df.loc[df[df['Category'] == 'Vegetables']['Naive_Bayes_Numerator'].idxmax()]\n",
    "\n",
    "# Find the fruit with the lowest Naive Bayes classifier numerator and the corresponding fruit\n",
    "lowest_fruit_row = df.loc[df[df['Category'] == 'Fruits']['Naive_Bayes_Numerator'].idxmin()]\n",
    "\n",
    "# Print the results\n",
    "print(f\"Q10: Corresponding Vegetable: {vegetable_max_row['Food']}\")\n",
    "print(f\"Q11: Corresponding Fruit: {lowest_fruit_row['Food']}\")"
   ]
  },
  {
   "cell_type": "markdown",
   "metadata": {},
   "source": [
    "### Question 12\n",
    "Using a Naive Bayes Classifier Process, you are trying to determine if it is more likely that a random food is a fruit or a vegetable.  Custard has a Naive Bayes numerator (three decimal places) of ________ for fruit and a Naive Bayes numerator of ________ for vegetable,  therefore we would conclude that it is more likely that custard is a ________ than a ________."
   ]
  },
  {
   "cell_type": "code",
   "execution_count": 2000,
   "metadata": {},
   "outputs": [
    {
     "name": "stdout",
     "output_type": "stream",
     "text": [
      "Fruit Naive Bayes Numerator for Custard: 0.305\n",
      "Vegetable Naive Bayes Numerator for Custard: 2162.043\n",
      "Therefore, we would conclude that it is more likely that Custard is a Vegetable.\n"
     ]
    }
   ],
   "source": [
    "# Define the columns to analyze\n",
    "columns_to_analyze = ['Calories', 'Protein', 'Fat', 'Sat.Fat', 'Fiber', 'Carbs']\n",
    "\n",
    "# Define the food item (Custard) to analyze\n",
    "custard = df[df['Food'] == 'Custard']\n",
    "\n",
    "# Initialize the Naive Bayes numerators\n",
    "fruit_numerator = 1.0\n",
    "vegetable_numerator = 1.0\n",
    "\n",
    "# Iterate through each column (measure/gram)\n",
    "for col in columns_to_analyze:\n",
    "    # Calculate the PDF for the value based on the specific mean and standard deviation for fruits\n",
    "    pdf_value_fruits = norm.pdf(custard[col].values[0], loc=conditional_stats.loc['Fruits', f\"{col}_mean\"], scale=conditional_stats.loc['Fruits', f\"{col}_std\"])\n",
    "    \n",
    "    # Multiply the PDF value to the fruit numerator\n",
    "    fruit_numerator *= pdf_value_fruits\n",
    "\n",
    "    # Calculate the PDF for the value based on the specific mean and standard deviation for vegetables\n",
    "    pdf_value_vegetables = norm.pdf(custard[col].values[0], loc=conditional_stats.loc['Vegetables', f\"{col}_mean\"], scale=conditional_stats.loc['Vegetables', f\"{col}_std\"])\n",
    "    \n",
    "    # Multiply the PDF value to the vegetable numerator\n",
    "    vegetable_numerator *= pdf_value_vegetables\n",
    "\n",
    "# Multiply by the number of fruits and vegetables and dataset size\n",
    "fruit_numerator *= len(df[df['Category'] == 'Fruits']) / len(df)\n",
    "vegetable_numerator *= len(df[df['Category'] == 'Vegetables']) / len(df)\n",
    "\n",
    "# Determine whether Custard is more likely to be a fruit or a vegetable\n",
    "result = \"Fruit\" if fruit_numerator > vegetable_numerator else \"Vegetable\"\n",
    "\n",
    "# Print the results rounded to 3 decimal points\n",
    "print(f\"Fruit Naive Bayes Numerator for Custard: {fruit_numerator:.3f}\")\n",
    "print(f\"Vegetable Naive Bayes Numerator for Custard: {vegetable_numerator:.3f}\")\n",
    "print(f\"Therefore, we would conclude that it is more likely that Custard is a {result}.\")"
   ]
  },
  {
   "cell_type": "markdown",
   "metadata": {},
   "source": [
    "### Question 13\n",
    "Of the 70 vegetables in the dataset, how many of them are predicted to be more likely vegetables than fruits using the Naive Bayes Classifier?"
   ]
  },
  {
   "cell_type": "code",
   "execution_count": 2001,
   "metadata": {},
   "outputs": [
    {
     "name": "stdout",
     "output_type": "stream",
     "text": [
      "Number of vegetables predicted to be more likely vegetables than fruits: 61\n"
     ]
    }
   ],
   "source": [
    "# Filter the dataset to include only vegetables\n",
    "vegetables = df[df['Category'] == 'Vegetables']\n",
    "\n",
    "# Initialize a count for vegetables predicted to be more likely vegetables than fruits\n",
    "predicted_vegetables_count = 0\n",
    "\n",
    "# Iterate through each vegetable in the dataset\n",
    "for _, vegetable in vegetables.iterrows():\n",
    "    # Initialize the Naive Bayes numerators for fruit and vegetable\n",
    "    fruit_numerator = 1.0\n",
    "    vegetable_numerator = 1.0\n",
    "    \n",
    "    # Iterate through each column (measure/gram)\n",
    "    for col in columns_to_analyze:\n",
    "        # Calculate the PDF value for fruits\n",
    "        pdf_value_fruits = norm.pdf(vegetable[col], loc=conditional_stats.loc['Fruits', f\"{col}_mean\"], scale=conditional_stats.loc['Fruits', f\"{col}_std\"])\n",
    "        fruit_numerator *= pdf_value_fruits\n",
    "        \n",
    "        # Calculate the PDF value for vegetables\n",
    "        pdf_value_vegetables = norm.pdf(vegetable[col], loc=conditional_stats.loc['Vegetables', f\"{col}_mean\"], scale=conditional_stats.loc['Vegetables', f\"{col}_std\"])\n",
    "        vegetable_numerator *= pdf_value_vegetables\n",
    "\n",
    "    # Multiply by the number of fruits and vegetables and dataset size\n",
    "    fruit_numerator *= len(df[df['Category'] == 'Fruits']) / len(df)\n",
    "    vegetable_numerator *= len(df[df['Category'] == 'Vegetables']) / len(df)\n",
    "\n",
    "    # If the Naive Bayes numerator for vegetables is higher, increment the count\n",
    "    if vegetable_numerator > fruit_numerator:\n",
    "        predicted_vegetables_count += 1\n",
    "\n",
    "print(f\"Number of vegetables predicted to be more likely vegetables than fruits: {predicted_vegetables_count}\")\n"
   ]
  },
  {
   "cell_type": "markdown",
   "metadata": {},
   "source": [
    "### Question 14\n",
    "To the tenths place, what is the percentage accuracy of the Naive Bayes classifier between Fruits and Vegetables (i.e., between the two options, it calls a fruit a fruit and a vegetable a vegetable).  Put the percent sign in your answer."
   ]
  },
  {
   "cell_type": "code",
   "execution_count": 2002,
   "metadata": {},
   "outputs": [
    {
     "name": "stdout",
     "output_type": "stream",
     "text": [
      "Percentage accuracy of the Naive Bayes classifier: 76.6%\n"
     ]
    }
   ],
   "source": [
    "# Filter the dataset to include only fruits and vegetables\n",
    "fruits_and_vegetables = df[df['Category'].isin(['Fruits', 'Vegetables'])]\n",
    "\n",
    "# Initialize a count for correct predictions\n",
    "correct_predictions = 0\n",
    "\n",
    "# Iterate through each food item in the dataset\n",
    "for _, food_item in fruits_and_vegetables.iterrows():\n",
    "    # Initialize the Naive Bayes numerators for fruit and vegetable\n",
    "    fruit_numerator = 1.0\n",
    "    vegetable_numerator = 1.0\n",
    "    \n",
    "    # Iterate through each column (measure/gram)\n",
    "    for col in columns_to_analyze:\n",
    "        # Calculate the PDF value for fruits\n",
    "        pdf_value_fruits = norm.pdf(food_item[col], loc=conditional_stats.loc['Fruits', f\"{col}_mean\"], scale=conditional_stats.loc['Fruits', f\"{col}_std\"])\n",
    "        fruit_numerator *= pdf_value_fruits\n",
    "        \n",
    "        # Calculate the PDF value for vegetables\n",
    "        pdf_value_vegetables = norm.pdf(food_item[col], loc=conditional_stats.loc['Vegetables', f\"{col}_mean\"], scale=conditional_stats.loc['Vegetables', f\"{col}_std\"])\n",
    "        vegetable_numerator *= pdf_value_vegetables\n",
    "\n",
    "    # Multiply by the number of fruits and vegetables and dataset size\n",
    "    fruit_numerator *= len(df[df['Category'] == 'Fruits']) / len(df)\n",
    "    vegetable_numerator *= len(df[df['Category'] == 'Vegetables']) / len(df)\n",
    "\n",
    "    # Determine whether the food item is more likely to be a fruit or a vegetable\n",
    "    predicted_category = 'Fruits' if fruit_numerator > vegetable_numerator else 'Vegetables'\n",
    "\n",
    "    # Check if the prediction matches the actual category\n",
    "    if predicted_category == food_item['Category']:\n",
    "        correct_predictions += 1\n",
    "\n",
    "# Calculate the percentage accuracy\n",
    "total_items = len(fruits_and_vegetables)\n",
    "accuracy = (correct_predictions / total_items) * 100\n",
    "\n",
    "# Print accuracy to one decimal place\n",
    "print(f\"Percentage accuracy of the Naive Bayes classifier: {accuracy:.1f}%\")\n"
   ]
  }
 ],
 "metadata": {
  "kernelspec": {
   "display_name": "dse501",
   "language": "python",
   "name": "python3"
  },
  "language_info": {
   "codemirror_mode": {
    "name": "ipython",
    "version": 3
   },
   "file_extension": ".py",
   "mimetype": "text/x-python",
   "name": "python",
   "nbconvert_exporter": "python",
   "pygments_lexer": "ipython3",
   "version": "3.11.5"
  }
 },
 "nbformat": 4,
 "nbformat_minor": 2
}

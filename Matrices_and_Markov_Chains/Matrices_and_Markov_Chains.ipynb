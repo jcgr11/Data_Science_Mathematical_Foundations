{
 "cells": [
  {
   "cell_type": "code",
   "execution_count": 214,
   "metadata": {},
   "outputs": [],
   "source": [
    "import numpy as np\n",
    "\n",
    "# Given initial state vector (25% for each nucleotide)\n",
    "initial_state = np.array([0.25, 0.25, 0.25, 0.25])\n",
    "\n",
    "# Given transition matrix\n",
    "transition_matrix = np.array(\n",
    "    [\n",
    "        [0.83, 0.01, 0.07, 0.06],\n",
    "        [0.12, 0.94, 0.04, 0.01],\n",
    "        [0.03, 0.05, 0.79, 0.01],\n",
    "        [0.02, 0.00, 0.10, 0.92],\n",
    "    ]\n",
    ")"
   ]
  },
  {
   "cell_type": "markdown",
   "metadata": {},
   "source": [
    "### Question 1:\n",
    "Consider an evenly distributed initial state vector (p = 25%) for each nucleotide and the matrix presented in the description.  Is this setup proper for a Markov Chain?"
   ]
  },
  {
   "cell_type": "code",
   "execution_count": 215,
   "metadata": {},
   "outputs": [
    {
     "name": "stdout",
     "output_type": "stream",
     "text": [
      "Yes, the setup forms a Markov Chain.\n",
      "\n",
      "Sums of the transition matrix:\n",
      "[1. 1. 1. 1.]\n",
      "\n",
      "Sum of the initial state vector:\n",
      "1.0\n"
     ]
    }
   ],
   "source": [
    "# Check if cols of the transition matrix sum to 1\n",
    "col_sums = np.sum(transition_matrix, axis=0)\n",
    "\n",
    "# Check if all col sums are approximately equal to 1 (within a small tolerance)\n",
    "is_markov_chain = np.allclose(col_sums, 1)\n",
    "\n",
    "# Check if the sum of the initial state vector is approximately equal to 1\n",
    "initial_state_sum = np.sum(initial_state)\n",
    "is_markov_chain = is_markov_chain and np.isclose(initial_state_sum, 1)\n",
    "\n",
    "# Output the result\n",
    "if is_markov_chain:\n",
    "    print(\"Yes, the setup forms a Markov Chain.\")\n",
    "else:\n",
    "    print(\"No, the setup does not form a Markov Chain.\")\n",
    "\n",
    "print(\"\\nSums of the transition matrix:\")\n",
    "print(col_sums)\n",
    "print(\"\\nSum of the initial state vector:\")\n",
    "print(initial_state_sum)"
   ]
  },
  {
   "cell_type": "markdown",
   "metadata": {},
   "source": [
    "### Question 2:\n",
    "(If there are issues with respect to question 1, fix them).\n",
    "\n",
    "Which two probability vectors have the smallest dot product?"
   ]
  },
  {
   "cell_type": "code",
   "execution_count": 216,
   "metadata": {},
   "outputs": [
    {
     "name": "stdout",
     "output_type": "stream",
     "text": [
      "\n",
      "Dot product for each probability vector pair:\n",
      "A/C: 0.112\n",
      "A/G: 0.081\n",
      "A/T: 0.079\n",
      "C/G: 0.082\n",
      "C/T: 0.016\n",
      "G/T: 0.089\n"
     ]
    },
    {
     "data": {
      "text/plain": [
       "[None, None, None, None, None, None]"
      ]
     },
     "execution_count": 216,
     "metadata": {},
     "output_type": "execute_result"
    }
   ],
   "source": [
    "# Define nucleotide labels\n",
    "nucleotides = [\"A\", \"C\", \"G\", \"T\"]\n",
    "\n",
    "# Calculate the dot product for each pair of probability vectors\n",
    "dot_products = np.dot(transition_matrix, transition_matrix.T)\n",
    "\n",
    "# Set diagonal elements to a large value to exclude them from the minimum search\n",
    "np.fill_diagonal(dot_products, np.inf)\n",
    "\n",
    "print(\"\\nDot product for each probability vector pair:\")\n",
    "[\n",
    "    print(f\"{nucleotides[i]}/{nucleotides[j]}: {dot_products[i, j]:.3f}\")\n",
    "    for i in range(len(nucleotides))\n",
    "    for j in range(i + 1, len(nucleotides))\n",
    "]"
   ]
  },
  {
   "cell_type": "markdown",
   "metadata": {},
   "source": [
    "### Question 3:\n",
    "Assuming that each nucleotide was equally distributed to start, what proportion of nucleotides in one mutation sequence would we expect to be cytosine?  Round to three decimal places and include the leading 0"
   ]
  },
  {
   "cell_type": "code",
   "execution_count": 217,
   "metadata": {},
   "outputs": [
    {
     "name": "stdout",
     "output_type": "stream",
     "text": [
      "0.278\n"
     ]
    }
   ],
   "source": [
    "# Assuming each nucleotide was equally distributed to start\n",
    "cytosine_proportion = np.dot(\n",
    "    np.linalg.matrix_power(transition_matrix, 1), initial_state\n",
    ")[1]\n",
    "cytosine_proportion_rounded = round(cytosine_proportion, 3)\n",
    "print(cytosine_proportion_rounded)"
   ]
  },
  {
   "cell_type": "markdown",
   "metadata": {},
   "source": [
    "### Question 4:\n",
    "How many time steps are needed for cytosine to achieve over 40% of the synthetic strand?"
   ]
  },
  {
   "cell_type": "code",
   "execution_count": 218,
   "metadata": {},
   "outputs": [
    {
     "name": "stdout",
     "output_type": "stream",
     "text": [
      "9\n"
     ]
    }
   ],
   "source": [
    "# Calculate the number of time steps needed for cytosine to achieve over 40%\n",
    "cytosine_proportion = 0\n",
    "time_steps = 0\n",
    "\n",
    "while cytosine_proportion <= 0.40:\n",
    "    # Update the state vector with each time step\n",
    "    initial_state = np.dot(transition_matrix, initial_state)\n",
    "\n",
    "    # Get the proportion of cytosine\n",
    "    cytosine_proportion = initial_state[1]\n",
    "\n",
    "    # Increment the time step\n",
    "    time_steps += 1\n",
    "\n",
    "print(time_steps)"
   ]
  },
  {
   "cell_type": "markdown",
   "metadata": {},
   "source": [
    "### Question 5:\n",
    "Which nucleotide is least likely to occur long term?"
   ]
  },
  {
   "cell_type": "code",
   "execution_count": 219,
   "metadata": {},
   "outputs": [
    {
     "name": "stdout",
     "output_type": "stream",
     "text": [
      "\n",
      "Steady-State Probabilities:\n",
      "A: 0.166\n",
      "C: 0.466\n",
      "G: 0.145\n",
      "T: 0.223\n",
      "\n",
      "Least Likely Nucleotide in the Long Term: G\n"
     ]
    }
   ],
   "source": [
    "# Find the eigenvalues and eigenvectors\n",
    "eigenvalues, eigenvectors = np.linalg.eig(transition_matrix)\n",
    "\n",
    "# Find the index of the eigenvalue 1 (assuming it's the dominant eigenvalue)\n",
    "index_one = np.where(np.isclose(eigenvalues, 1))[0][0]\n",
    "\n",
    "# Use the corresponding eigenvector to get the steady-state vector\n",
    "steady_state_vector = np.real(\n",
    "    eigenvectors[:, index_one] / np.sum(eigenvectors[:, index_one])\n",
    ")\n",
    "\n",
    "# Find the least likely nucleotide\n",
    "least_likely_nucleotide = nucleotides[np.argmin(steady_state_vector)]\n",
    "\n",
    "print(\"\\nSteady-State Probabilities:\")\n",
    "for nucleotide, probability in zip(nucleotides, steady_state_vector):\n",
    "    print(f\"{nucleotide}: {probability:.3f}\")\n",
    "\n",
    "print(\"\\nLeast Likely Nucleotide in the Long Term:\", least_likely_nucleotide)"
   ]
  },
  {
   "cell_type": "markdown",
   "metadata": {},
   "source": [
    "### Question 6:\n",
    "Which nucleotide sees the smallest overall proportion shift after the first time step?"
   ]
  },
  {
   "cell_type": "code",
   "execution_count": 220,
   "metadata": {},
   "outputs": [
    {
     "name": "stdout",
     "output_type": "stream",
     "text": [
      "\n",
      "Proportions After Each Time Step:\n",
      "Time Step 1: A: 0.1921   C: 0.4079   G: 0.1412   T: 0.2588   \n",
      "Time Step 2: A: 0.1889   C: 0.4147   G: 0.1403   T: 0.2561   \n"
     ]
    }
   ],
   "source": [
    "# Calculate and display the proportions for the first 10 time steps\n",
    "print(\"\\nProportions After Each Time Step:\")\n",
    "for time_step in range(2):\n",
    "    # Update the state vector with each time step\n",
    "    initial_state = np.dot(transition_matrix, initial_state)\n",
    "\n",
    "    # Print the proportions for the current time step\n",
    "    print(f\"Time Step {time_step + 1}:\", end=\" \")\n",
    "    for nucleotide, proportion in zip(nucleotides, initial_state):\n",
    "        print(f\"{nucleotide}: {proportion:.4f}\", end=\"   \")\n",
    "    print()"
   ]
  },
  {
   "cell_type": "markdown",
   "metadata": {},
   "source": [
    "### Question 7\n",
    "How many time steps does it take for the second vector norm to get to greater than 0.55?"
   ]
  },
  {
   "cell_type": "code",
   "execution_count": 221,
   "metadata": {},
   "outputs": [
    {
     "name": "stdout",
     "output_type": "stream",
     "text": [
      "\n",
      "Norm-2 Values After Each Time Step:\n",
      "Time Step 0: 0.5000\n",
      "Time Step 1: 0.5018\n",
      "Time Step 2: 0.5058\n",
      "Time Step 3: 0.5107\n",
      "Time Step 4: 0.5157\n",
      "Time Step 5: 0.5205\n",
      "Time Step 6: 0.5250\n",
      "Time Step 7: 0.5290\n",
      "Time Step 8: 0.5326\n",
      "Time Step 9: 0.5358\n",
      "Time Step 10: 0.5387\n",
      "Time Step 11: 0.5412\n",
      "Time Step 12: 0.5435\n",
      "Time Step 13: 0.5455\n",
      "Time Step 14: 0.5472\n",
      "Time Step 15: 0.5488\n",
      "Time Step 16: 0.5502\n"
     ]
    }
   ],
   "source": [
    "# re-define the transition matrix\n",
    "transition_matrix = np.array(\n",
    "    [\n",
    "        [0.83, 0.01, 0.07, 0.06],\n",
    "        [0.12, 0.94, 0.04, 0.01],\n",
    "        [0.03, 0.05, 0.79, 0.01],\n",
    "        [0.02, 0.00, 0.10, 0.92],\n",
    "    ]\n",
    ")\n",
    "\n",
    "# re-define the initial state vector\n",
    "initial_state = np.array([0.25, 0.25, 0.25, 0.25])\n",
    "\n",
    "# Initialize the time step counter\n",
    "time_steps = 0\n",
    "\n",
    "# Print the norm values for each step\n",
    "print(\"\\nNorm-2 Values After Each Time Step:\")\n",
    "while np.linalg.norm(initial_state, ord=2) <= 0.5505:\n",
    "    # Print the norm value for the current time step\n",
    "    print(f\"Time Step {time_steps}: {np.linalg.norm(initial_state, ord=2):.4f}\")\n",
    "\n",
    "    # Update the state vector with each time step\n",
    "    initial_state = np.dot(transition_matrix, initial_state)\n",
    "\n",
    "    # Increment the time step counter\n",
    "    time_steps += 1"
   ]
  },
  {
   "cell_type": "markdown",
   "metadata": {},
   "source": [
    "### Question 8:\n",
    "This step is bogus.  Rescale the data using the following (across then down):  (2,1,2,3; 2,2,1,1; 3,3,3,1; 2,1,2,2).  Which column has the largest Norm-Max?"
   ]
  },
  {
   "cell_type": "code",
   "execution_count": 222,
   "metadata": {},
   "outputs": [
    {
     "name": "stdout",
     "output_type": "stream",
     "text": [
      "[[1.66 0.01 0.14 0.18]\n",
      " [0.24 1.88 0.04 0.01]\n",
      " [0.09 0.15 2.37 0.01]\n",
      " [0.04 0.   0.2  1.84]] \n",
      "\n",
      "\n",
      "Norm-Max Values for Each Rescaled Column:\n",
      "[1.66 1.88 2.37 1.84] \n",
      "\n",
      "2 Following zero-index convention, 0 = A, 1 = C, 2 = G, 3 = T\n"
     ]
    }
   ],
   "source": [
    "# Redefining the matrix again because not redefining the matrix above was casuing me to return the incorrect values. Once this was redefined the code worked as expected.\n",
    "# Original matrix\n",
    "original_data = np.array(\n",
    "    [\n",
    "        [0.83, 0.01, 0.07, 0.06],\n",
    "        [0.12, 0.94, 0.04, 0.01],\n",
    "        [0.03, 0.05, 0.79, 0.01],\n",
    "        [0.02, 0.00, 0.10, 0.92],\n",
    "    ]\n",
    ")\n",
    "\n",
    "# Scaling matrix\n",
    "scaling_matrix = np.array([[2, 1, 2, 3], [2, 2, 1, 1], [3, 3, 3, 1], [2, 1, 2, 2]])\n",
    "\n",
    "# Rescale the data\n",
    "rescaled_data = original_data * scaling_matrix\n",
    "\n",
    "# Calculate the Norm-Max for each column\n",
    "norm_max_values = np.linalg.norm(rescaled_data, ord=np.inf, axis=0)\n",
    "\n",
    "# Find the column with the largest Norm-Max\n",
    "max_norm_column_index = np.argmax(norm_max_values)\n",
    "\n",
    "print(rescaled_data, \"\\n\")\n",
    "print(\"\\nNorm-Max Values for Each Rescaled Column:\")\n",
    "print(norm_max_values, \"\\n\")\n",
    "print(\n",
    "    max_norm_column_index, \"Following zero-index convention, 0 = A, 1 = C, 2 = G, 3 = T\"\n",
    ")"
   ]
  },
  {
   "cell_type": "markdown",
   "metadata": {},
   "source": [
    "### Question 9:\n",
    "What are the four Norm-1 values for the newly rescaled columns?"
   ]
  },
  {
   "cell_type": "code",
   "execution_count": 223,
   "metadata": {},
   "outputs": [
    {
     "name": "stdout",
     "output_type": "stream",
     "text": [
      "\n",
      "Norm-1 Values for Each Rescaled Column:\n",
      "[2.03 2.04 2.75 2.04]\n"
     ]
    }
   ],
   "source": [
    "# Calculate the Norm-1 for each column\n",
    "norm_1_values = np.linalg.norm(rescaled_data, ord=1, axis=0)\n",
    "\n",
    "print(\"\\nNorm-1 Values for Each Rescaled Column:\")\n",
    "print(norm_1_values)"
   ]
  },
  {
   "cell_type": "markdown",
   "metadata": {},
   "source": [
    "### Question 10:\n",
    "Using the answers to Q8 and Q9, rescale the data such that the matrix is fit for a Markov Chain.  Which nucleotide has the lowest\n",
    "maintenance probability (i.e., diagonal value)?"
   ]
  },
  {
   "cell_type": "code",
   "execution_count": 224,
   "metadata": {},
   "outputs": [
    {
     "name": "stdout",
     "output_type": "stream",
     "text": [
      "\n",
      "Normalized Rescaled Data:\n",
      "[[0.81773399 0.00490196 0.05090909 0.08823529]\n",
      " [0.1182266  0.92156863 0.01454545 0.00490196]\n",
      " [0.04433498 0.07352941 0.86181818 0.00490196]\n",
      " [0.01970443 0.         0.07272727 0.90196078]]\n",
      "\n",
      " A\n"
     ]
    }
   ],
   "source": [
    "# Rescale the data to fit a Markov Chain\n",
    "normalized_rescaled_data = rescaled_data / norm_1_values\n",
    "\n",
    "# Display the normalized matrix\n",
    "print(\"\\nNormalized Rescaled Data:\")\n",
    "print(normalized_rescaled_data)\n",
    "\n",
    "# Find the nucleotide with the lowest maintenance probability\n",
    "lowest_maintenance_nucleotide = nucleotides[\n",
    "    np.argmin(np.diag(normalized_rescaled_data))\n",
    "]\n",
    "print(\"\\n\", lowest_maintenance_nucleotide)"
   ]
  }
 ],
 "metadata": {
  "kernelspec": {
   "display_name": "dse501",
   "language": "python",
   "name": "python3"
  },
  "language_info": {
   "codemirror_mode": {
    "name": "ipython",
    "version": 3
   },
   "file_extension": ".py",
   "mimetype": "text/x-python",
   "name": "python",
   "nbconvert_exporter": "python",
   "pygments_lexer": "ipython3",
   "version": "3.11.5"
  }
 },
 "nbformat": 4,
 "nbformat_minor": 2
}

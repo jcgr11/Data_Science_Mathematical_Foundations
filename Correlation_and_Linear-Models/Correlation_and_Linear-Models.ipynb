{
 "cells": [
  {
   "cell_type": "code",
   "execution_count": 1,
   "metadata": {},
   "outputs": [],
   "source": [
    "import pandas as pd\n",
    "import numpy as np\n",
    "from scipy import stats\n",
    "from scipy.stats import pearsonr\n",
    "from sklearn.linear_model import LinearRegression"
   ]
  },
  {
   "cell_type": "code",
   "execution_count": 2,
   "metadata": {},
   "outputs": [],
   "source": [
    "r_df = pd.read_csv('R.csv')\n",
    "g_df = pd.read_csv('G.csv')\n",
    "b_df = pd.read_csv('B.csv')\n",
    "rgb_df = pd.read_csv('RGB.csv')"
   ]
  },
  {
   "cell_type": "markdown",
   "metadata": {},
   "source": [
    "### Question 1: Which color has the highest correlation value for each measure? "
   ]
  },
  {
   "cell_type": "code",
   "execution_count": 3,
   "metadata": {},
   "outputs": [
    {
     "name": "stdout",
     "output_type": "stream",
     "text": [
      "Pearson Red color limited PearsonRResult(statistic=0.7536896362253166, pvalue=8.359127317823591e-09)\n",
      "Pearson Green color limited PearsonRResult(statistic=0.8340125073361087, pvalue=6.9527671212699345e-12)\n",
      "Pearson Blue color limited PearsonRResult(statistic=0.8865670469538409, pvalue=5.700864539786063e-15)\n",
      "\n",
      "Spearman Red color limited SignificanceResult(statistic=0.8258845573870119, pvalue=1.6702819985090264e-11)\n",
      "Spearman Green color limited SignificanceResult(statistic=0.8353829467028415, pvalue=5.969917045398561e-12)\n",
      "Spearman Blue color limited SignificanceResult(statistic=0.7975186611532058, pvalue=2.5815831009369814e-10)\n",
      "\n",
      "Kendall Red color limited SignificanceResult(statistic=0.6397373572173887, pvalue=3.1232644286017545e-09)\n",
      "Kendall Green color limited SignificanceResult(statistic=0.6646964925231432, pvalue=1.031167358408612e-09)\n",
      "Kendall Blue color limited SignificanceResult(statistic=0.6209734253156467, pvalue=8.948772561392046e-09)\n",
      "\n",
      "Spearman Red full LED on SignificanceResult(statistic=0.9446769472537394, pvalue=5.711451698369369e-21)\n",
      "Spearman Green full LED on SignificanceResult(statistic=0.9695080029403543, pvalue=4.8068292368252326e-26)\n",
      "Spearman Blue full LED on SignificanceResult(statistic=0.8068583348318317, pvalue=1.1015790140599527e-10)\n",
      "\n",
      "Pearson Red full LED on PearsonRResult(statistic=0.9237683464437879, pvalue=2.861772259768801e-18)\n",
      "Pearson Green full LED on PearsonRResult(statistic=0.9613802959741791, pvalue=5.0335246182497805e-24)\n",
      "Pearson Blue  full LED on PearsonRResult(statistic=0.8995647972704863, pvalue=5.656642268436211e-16)\n",
      "\n",
      "Kendall Red full LED on SignificanceResult(statistic=0.81479155209646, pvalue=4.617078546790122e-14)\n",
      "Kendall Green full LED on SignificanceResult(statistic=0.8811034663506891, pvalue=3.3921835367045873e-16)\n",
      "Kendall Blue  full LED on SignificanceResult(statistic=0.6701785434682281, pvalue=4.832798534798196e-10)\n",
      "\n"
     ]
    }
   ],
   "source": [
    "\n",
    "#Pearson color limited (red, blue, or green)\n",
    "pearson_co_lim_red = stats.pearsonr(r_df['R'], r_df['R(Red)'])\n",
    "pearson_co_lim_green = stats.pearsonr(g_df['G'], g_df['G(Green)'])\n",
    "pearson_co_lim_blue = stats.pearsonr(b_df['B'], b_df['B(Blue)'])\n",
    "\n",
    "print(f'Pearson Red color limited {pearson_co_lim_red}')\n",
    "print(f'Pearson Green color limited {pearson_co_lim_green}')\n",
    "print(f'Pearson Blue color limited {pearson_co_lim_blue}\\n')\n",
    "\n",
    "#spearman color limited(red, blue, or green)\n",
    "spearman_co_lim_red = stats.spearmanr(r_df['R'], r_df['R(Red)'])\n",
    "spearman_co_lim_green = stats.spearmanr(g_df['G'], g_df['G(Green)'])\n",
    "spearman_co_lim_blue = stats.spearmanr(b_df['B'], b_df['B(Blue)'])\n",
    "\n",
    "print(f'Spearman Red color limited {spearman_co_lim_red}')\n",
    "print(f'Spearman Green color limited {spearman_co_lim_green}')\n",
    "print(f'Spearman Blue color limited {spearman_co_lim_blue}\\n')\n",
    "\n",
    "#kendall color limited(red, blue, or green)\n",
    "kendall_co_lim_red = stats.kendalltau(r_df['R'], r_df['R(Red)'])\n",
    "kendall_co_lim_green = stats.kendalltau(g_df['G'], g_df['G(Green)'])\n",
    "kendall_co_lim_blue = stats.kendalltau(b_df['B'], b_df['B(Blue)'])\n",
    "\n",
    "print(f'Kendall Red color limited {kendall_co_lim_red}')\n",
    "print(f'Kendall Green color limited {kendall_co_lim_green}')\n",
    "print(f'Kendall Blue color limited {kendall_co_lim_blue}\\n')\n",
    "\n",
    "#spearman full led(red, blue, or green)\n",
    "spearman_full_led_red = stats.spearmanr(r_df['R'], r_df['R(LED on)'])\n",
    "spearman_full_led_green = stats.spearmanr(g_df['G'], g_df['G(LED on)'])\n",
    "spearman_full_led_blue = stats.spearmanr(b_df['B'], b_df['B(LED on)'])\n",
    "\n",
    "print(f'Spearman Red full LED on {spearman_full_led_red}')\n",
    "print(f'Spearman Green full LED on {spearman_full_led_green}')\n",
    "print(f'Spearman Blue full LED on {spearman_full_led_blue}\\n')\n",
    "\n",
    "#pearson full led(red, blue, or green)\n",
    "pearson_full_led_red = stats.pearsonr(r_df['R'], r_df['R(LED on)'])\n",
    "pearson_full_led_green = stats.pearsonr(g_df['G'], g_df['G(LED on)'])\n",
    "pearson_full_led_blue = stats.pearsonr(b_df['B'], b_df['B(LED on)'])\n",
    "\n",
    "print(f'Pearson Red full LED on {pearson_full_led_red}')\n",
    "print(f'Pearson Green full LED on {pearson_full_led_green}')\n",
    "print(f'Pearson Blue  full LED on {pearson_full_led_blue}\\n')\n",
    "\n",
    "#kendall full led(red, blue, or green)\n",
    "kendall_full_led_red = stats.kendalltau(r_df['R'], r_df['R(LED on)'])\n",
    "kendall_full_led_green = stats.kendalltau(g_df['G'], g_df['G(LED on)'])\n",
    "kendall_full_led_blue = stats.kendalltau(b_df['B'], b_df['B(LED on)'])\n",
    "\n",
    "print(f'Kendall Red full LED on {kendall_full_led_red}')\n",
    "print(f'Kendall Green full LED on {kendall_full_led_green}')\n",
    "print(f'Kendall Blue  full LED on {kendall_full_led_blue}\\n')\n"
   ]
  },
  {
   "cell_type": "markdown",
   "metadata": {},
   "source": [
    "### Questions 2-4: Below is a function used to answer questions 2-4 to avoid redundancy"
   ]
  },
  {
   "cell_type": "code",
   "execution_count": 4,
   "metadata": {},
   "outputs": [],
   "source": [
    "def concordant(df, col_lim_column, led_column):\n",
    "    # Create a copy of the DataFrame\n",
    "    df2 = df.copy()\n",
    "\n",
    "    # Rank the 'RGB' column and label it as 'RGB_Rank'\n",
    "    df2[col_lim_column + '_Rank'] = df2[col_lim_column].rank()\n",
    "\n",
    "    # Rank the 'RGB(LED on)' column and label it as 'RGB(LED on)_Rank'\n",
    "    df2[led_column + '_Rank'] = df2[led_column].rank()\n",
    "\n",
    "    # Calculate Concordant and Discordant values for col_lim_column\n",
    "    concordant = []\n",
    "    discordant = []\n",
    "\n",
    "    for i in range(len(df2[col_lim_column + '_Rank'])):\n",
    "        concordant_count = len([x for x in df2[col_lim_column + '_Rank'][i + 1:] if x > df2[col_lim_column + '_Rank'][i]])\n",
    "        discordant_count = len([x for x in df2[col_lim_column + '_Rank'][i + 1:] if x <= df2[col_lim_column + '_Rank'][i]])\n",
    "        concordant.append(concordant_count)\n",
    "        discordant.append(discordant_count)\n",
    "\n",
    "    df2['Concordant'] = concordant\n",
    "    df2['Discordant'] = discordant\n",
    "\n",
    "    # Calculate Concordant and Discordant values for led_column\n",
    "    concordant_led = []\n",
    "    discordant_led = []\n",
    "\n",
    "    for i in range(len(df2[led_column + '_Rank'])):\n",
    "        concordant_count_led = len([x for x in df2[led_column + '_Rank'][i + 1:] if x > df2[led_column + '_Rank'][i]])\n",
    "        discordant_count_led = len([x for x in df2[led_column + '_Rank'][i + 1:] if x <= df2[led_column + '_Rank'][i]])\n",
    "        concordant_led.append(concordant_count_led)\n",
    "        discordant_led.append(discordant_count_led)\n",
    "\n",
    "    df2['Concordant_LED'] = concordant_led\n",
    "    df2['Discordant_LED'] = discordant_led\n",
    "\n",
    "    result = df2[(df2['Discordant'] == 0) & (df2['Discordant_LED'] == 0)]['Color'].values[0]\n",
    "\n",
    "    return result"
   ]
  },
  {
   "cell_type": "markdown",
   "metadata": {},
   "source": [
    "### Question 2: With the red experiment, the first color where both versions of the measurement are fully concordant is"
   ]
  },
  {
   "cell_type": "code",
   "execution_count": 5,
   "metadata": {},
   "outputs": [
    {
     "name": "stdout",
     "output_type": "stream",
     "text": [
      "Result for r_df: Rookwood Amber\n"
     ]
    }
   ],
   "source": [
    "r_result = concordant(r_df, 'R(Red)', 'R(LED on)')\n",
    "print(\"Result for r_df:\", r_result)"
   ]
  },
  {
   "cell_type": "markdown",
   "metadata": {},
   "source": [
    "### Question 3: With the Green experiment, the first color where both versions of the measurement are fully concordant is"
   ]
  },
  {
   "cell_type": "code",
   "execution_count": 6,
   "metadata": {},
   "outputs": [
    {
     "name": "stdout",
     "output_type": "stream",
     "text": [
      "Result for g_df: Poolhouse\n"
     ]
    }
   ],
   "source": [
    "g_result = concordant(g_df, 'G(Green)', 'G(LED on)')\n",
    "print(\"Result for g_df:\", g_result)"
   ]
  },
  {
   "cell_type": "markdown",
   "metadata": {},
   "source": [
    "### Question 4: With the Blue experiment, the first color where both versions of the measurement are fully concordant is"
   ]
  },
  {
   "cell_type": "code",
   "execution_count": 7,
   "metadata": {},
   "outputs": [
    {
     "name": "stdout",
     "output_type": "stream",
     "text": [
      "Result for b_df: Naval\n"
     ]
    }
   ],
   "source": [
    "b_result = concordant(b_df, 'B(Blue)', 'B(LED on)')\n",
    "print(\"Result for b_df:\", b_result)"
   ]
  },
  {
   "cell_type": "markdown",
   "metadata": {},
   "source": [
    "### Question 5: Which color benefits the most by considering a Spearman correlation coefficient as opposed to a Pearson correlation coefficient?\n",
    "\n",
    "Considering that a Lower p-value indicates a stronger correlation and looking at the Spearman and Pearson correlations' p-values for each color:\n",
    "\n",
    "Pearson P-values:\n",
    "\n",
    "Red: 8.359127317823591e-09\n",
    "Green: 6.9527671212699345e-12\n",
    "Blue: 5.700864539786063e-15\n",
    "Spearman P-values:\n",
    "\n",
    "Red: 1.6702819985090264e-11\n",
    "Green: 5.969917045398561e-12\n",
    "Blue: 2.5815831009369814e-10\n",
    "\n",
    "it's clear that the \"Red\" color exhibits the most significant difference between Spearman and Pearson correlations. The p-value for the \"Red\" color in the Spearman correlation is larger than the p-value in Pearson correlation, proving a stronger Spearman correlation."
   ]
  },
  {
   "cell_type": "markdown",
   "metadata": {},
   "source": [
    "### Question 6: Which correlation coefficient has the least range across the experiment?"
   ]
  },
  {
   "cell_type": "code",
   "execution_count": 8,
   "metadata": {},
   "outputs": [
    {
     "name": "stdout",
     "output_type": "stream",
     "text": [
      "The correlation with the least range across the experiment is: Spearman Color Limited\n"
     ]
    }
   ],
   "source": [
    "# Define the correlation values for each type and configuration\n",
    "correlation_values = {\n",
    "    \"Pearson Full\": [pearson_full_led_red[0], pearson_full_led_green[0], pearson_full_led_blue[0]],\n",
    "    \"Pearson Color Limited\": [pearson_co_lim_red[0], pearson_co_lim_green[0], pearson_co_lim_blue[0]],\n",
    "    \"Kendall Full\": [kendall_full_led_red[0], kendall_full_led_green[0], kendall_full_led_blue[0]],\n",
    "    \"Kendall Color Limited\": [kendall_co_lim_red[0], kendall_co_lim_green[0], kendall_co_lim_blue[0]],\n",
    "    \"Spearman Full\": [spearman_full_led_red.correlation, spearman_full_led_green.correlation, spearman_full_led_blue.correlation],\n",
    "    \"Spearman Color Limited\": [spearman_co_lim_red.correlation, spearman_co_lim_green.correlation, spearman_co_lim_blue.correlation]\n",
    "}\n",
    "\n",
    "# Calculate the range for each type of correlation\n",
    "correlation_ranges = {correlation: max(values) - min(values) for correlation, values in correlation_values.items()}\n",
    "\n",
    "# Find the correlation type with the smallest range\n",
    "correlation_with_least_range = min(correlation_ranges, key=correlation_ranges.get)\n",
    "\n",
    "# Print the correlation type with the smallest range\n",
    "print(f\"The correlation with the least range across the experiment is: {correlation_with_least_range}\")\n"
   ]
  },
  {
   "cell_type": "markdown",
   "metadata": {},
   "source": [
    "### Question 7: The range of the identified correlation (to three decimal places) is from "
   ]
  },
  {
   "cell_type": "code",
   "execution_count": 9,
   "metadata": {},
   "outputs": [
    {
     "name": "stdout",
     "output_type": "stream",
     "text": [
      "Min: 0.798 Max: 0.835\n"
     ]
    }
   ],
   "source": [
    "# Define the correlation values for Spearman Color Limited (my output from Q6)\n",
    "spearman_color_limited = [spearman_co_lim_red.correlation, spearman_co_lim_green.correlation, spearman_co_lim_blue.correlation]\n",
    "\n",
    "# Calculate the maximum and minimum values\n",
    "max_spearman_color_limited = max(spearman_color_limited)\n",
    "min_spearman_color_limited = min(spearman_color_limited)\n",
    "\n",
    "# Print the maximum and minimum values for Spearman Color Limited\n",
    "print(f\"Min: {round(min_spearman_color_limited, 3)}\", f\"Max: {round(max_spearman_color_limited, 3)}\")\n"
   ]
  },
  {
   "cell_type": "markdown",
   "metadata": {},
   "source": [
    "### Question 8: Which color's experiment results appear to have the least effect (i.e., the change in correlation coefficients is the least)? For this and future questions, this compares the LED correlation to the color-limited correlation."
   ]
  },
  {
   "cell_type": "code",
   "execution_count": 10,
   "metadata": {},
   "outputs": [
    {
     "name": "stdout",
     "output_type": "stream",
     "text": [
      "The color with the least effect is Blue\n"
     ]
    }
   ],
   "source": [
    "pearson_correlations = {\n",
    "    'Red': pearson_full_led_red[0] - pearson_co_lim_red[0],\n",
    "    'Green': pearson_full_led_green[0] - pearson_co_lim_green[0],\n",
    "    'Blue': pearson_full_led_blue[0] - pearson_co_lim_blue[0],\n",
    "}\n",
    "\n",
    "# Calculate the absolute differences\n",
    "absolute_differences = {color: abs(difference) for color, difference in pearson_correlations.items()}\n",
    "\n",
    "# Find the color with the smallest absolute difference\n",
    "least_effect_color = min(absolute_differences, key=absolute_differences.get)\n",
    "\n",
    "# Output the color with the least effect\n",
    "print(f\"The color with the least effect is {least_effect_color}\")\n"
   ]
  },
  {
   "cell_type": "markdown",
   "metadata": {},
   "source": [
    "### Question 9: Order the experimental results by the magnitude of their difference (smallest first). This question again refers to the difference in the correlations between Full LED and Color-Limited"
   ]
  },
  {
   "cell_type": "code",
   "execution_count": 11,
   "metadata": {},
   "outputs": [
    {
     "name": "stdout",
     "output_type": "stream",
     "text": [
      "Spearman Color Limited Blue: Absolute Difference = 0.00933967367862587\n",
      "Pearson Color Limited Blue: Absolute Difference = 0.012997750316645407\n",
      "Kendall Color Limited Blue: Absolute Difference = 0.04920511815258144\n",
      "Spearman Color Limited Red: Absolute Difference = 0.11879238986672747\n",
      "Pearson Color Limited Green: Absolute Difference = 0.1273677886380704\n",
      "Spearman Color Limited Green: Absolute Difference = 0.1341250562375128\n",
      "Pearson Color Limited Red: Absolute Difference = 0.17007871021847132\n",
      "Kendall Color Limited Red: Absolute Difference = 0.17505419487907137\n",
      "Kendall Color Limited Green: Absolute Difference = 0.21640697382754592\n"
     ]
    }
   ],
   "source": [
    "# Create a list of (color, correlation type, absolute difference) tuples\n",
    "correlation_differences = []\n",
    "\n",
    "correlations = {\n",
    "    'Red': (pearson_co_lim_red[0], spearman_co_lim_red[0], kendall_co_lim_red[0], pearson_full_led_red[0], spearman_full_led_red[0], kendall_full_led_red[0]),\n",
    "    'Green': (pearson_co_lim_green[0], spearman_co_lim_green[0], kendall_co_lim_green[0], pearson_full_led_green[0], spearman_full_led_green[0], kendall_full_led_green[0]),\n",
    "    'Blue': (pearson_co_lim_blue[0], spearman_co_lim_blue[0], kendall_co_lim_blue[0], pearson_full_led_blue[0], spearman_full_led_blue[0], kendall_full_led_blue[0]),\n",
    "}\n",
    "\n",
    "for color in correlations:\n",
    "    pearson_co_lim, spearman_co_lim, kendall_co_lim, pearson_full_led, spearman_full_led, kendall_full_led = correlations[color]\n",
    "    \n",
    "    correlation_differences.append((color, 'Pearson Color Limited', abs(pearson_co_lim - pearson_full_led)))\n",
    "    correlation_differences.append((color, 'Spearman Color Limited', abs(spearman_co_lim - spearman_full_led)))\n",
    "    correlation_differences.append((color, 'Kendall Color Limited', abs(kendall_co_lim - kendall_full_led)))\n",
    "\n",
    "# Sort the results by absolute difference (smallest first)\n",
    "sorted_correlation_differences = sorted(correlation_differences, key=lambda x: x[2])\n",
    "\n",
    "# Output the sorted results\n",
    "for result in sorted_correlation_differences:\n",
    "    print(f\"{result[1]} {result[0]}: Absolute Difference = {result[2]}\")\n"
   ]
  },
  {
   "cell_type": "markdown",
   "metadata": {},
   "source": [
    "### Question 10: Of the 18 calculated correlation coefficients between matched pairs, how many are above 0.75?"
   ]
  },
  {
   "cell_type": "code",
   "execution_count": 12,
   "metadata": {},
   "outputs": [
    {
     "name": "stdout",
     "output_type": "stream",
     "text": [
      "Number of correlation coefficients above 0.75: 14\n"
     ]
    }
   ],
   "source": [
    "correlation_coefficients = [\n",
    "    pearson_full_led_red[0], pearson_co_lim_red[0],\n",
    "    pearson_full_led_green[0], pearson_co_lim_green[0],\n",
    "    pearson_full_led_blue[0], pearson_co_lim_blue[0],\n",
    "    spearman_full_led_red[0], spearman_co_lim_red[0],\n",
    "    spearman_full_led_green[0], spearman_co_lim_green[0],\n",
    "    spearman_full_led_blue[0], spearman_co_lim_blue[0],\n",
    "    kendall_full_led_red[0], kendall_co_lim_red[0],\n",
    "    kendall_full_led_green[0], kendall_co_lim_green[0],\n",
    "    kendall_full_led_blue[0], kendall_co_lim_blue[0]\n",
    "]\n",
    "\n",
    "# Count the number of coefficients above 0.75\n",
    "count_above_075 = sum(1 for coefficient in correlation_coefficients if coefficient > 0.75)\n",
    "\n",
    "print(f\"Number of correlation coefficients above 0.75: {count_above_075}\")\n"
   ]
  },
  {
   "cell_type": "markdown",
   "metadata": {},
   "source": [
    "### Question 11"
   ]
  },
  {
   "cell_type": "code",
   "execution_count": 13,
   "metadata": {},
   "outputs": [
    {
     "name": "stdout",
     "output_type": "stream",
     "text": [
      "           R         G         B        RL        GL        BL\n",
      "R   1.000000  0.502334  0.099424  0.923768  0.580896  0.362886\n",
      "G   0.502334  1.000000  0.581961  0.645451  0.961380  0.795038\n",
      "B   0.099424  0.581961  1.000000  0.228403  0.554801  0.899565\n",
      "RL  0.923768  0.645451  0.228403  1.000000  0.736055  0.519279\n",
      "GL  0.580896  0.961380  0.554801  0.736055  1.000000  0.826091\n",
      "BL  0.362886  0.795038  0.899565  0.519279  0.826091  1.000000\n"
     ]
    }
   ],
   "source": [
    "correlation_matrix = rgb_df[['R', 'G', 'B', 'RL', 'GL', 'BL']].corr()\n",
    "print(correlation_matrix)"
   ]
  },
  {
   "cell_type": "markdown",
   "metadata": {},
   "source": [
    "### Question 12"
   ]
  },
  {
   "cell_type": "code",
   "execution_count": 14,
   "metadata": {},
   "outputs": [
    {
     "name": "stdout",
     "output_type": "stream",
     "text": [
      "Average Blue: 107.524\n",
      "Standard Deviation Blue: 58.614\n",
      "Average Red from LED: 603.714\n",
      "Standard Deviation Red from LED: 352.472\n",
      "Correlation Coefficient: 0.228\n",
      "Slope: 1.373\n",
      "Intercept: 456.031\n"
     ]
    }
   ],
   "source": [
    "# Calculate corr between Blue (B) and Red from LED (RL)\n",
    "correlation_blue_red = rgb_df['B'].corr(rgb_df['RL'])\n",
    "\n",
    "# Calculate average and standard deviation of Blue (B) values\n",
    "average_blue = rgb_df['B'].mean()\n",
    "std_dev_blue = rgb_df['B'].std()\n",
    "\n",
    "#Calculate average and standard deviation of Red from LED (RL) values\n",
    "average_red_led = rgb_df['RL'].mean()\n",
    "std_dev_red_led = rgb_df['RL'].std()\n",
    "\n",
    "# Calculate  parameters for the line of best fit\n",
    "slope = correlation_blue_red * (std_dev_red_led / std_dev_blue)\n",
    "intercept = average_red_led - slope * average_blue\n",
    "\n",
    "#Print results\n",
    "correlation_blue_red = round(correlation_blue_red, 3)\n",
    "average_blue = round(average_blue, 3)\n",
    "std_dev_blue = round(std_dev_blue, 3)\n",
    "average_red_led = round(average_red_led, 3)\n",
    "std_dev_red_led = round(std_dev_red_led, 3)\n",
    "slope = round(slope, 3)\n",
    "intercept = round(intercept, 3)\n",
    "\n",
    "print(f\"Average Blue: {average_blue}\")\n",
    "print(f\"Standard Deviation Blue: {std_dev_blue}\")\n",
    "print(f\"Average Red from LED: {average_red_led}\")\n",
    "print(f\"Standard Deviation Red from LED: {std_dev_red_led}\")\n",
    "print(f\"Correlation Coefficient: {correlation_blue_red}\")\n",
    "print(f\"Slope: {slope}\")\n",
    "print(f\"Intercept: {intercept}\")"
   ]
  },
  {
   "cell_type": "markdown",
   "metadata": {},
   "source": [
    "### Question 13"
   ]
  },
  {
   "cell_type": "code",
   "execution_count": 15,
   "metadata": {},
   "outputs": [
    {
     "name": "stdout",
     "output_type": "stream",
     "text": [
      "For the color Julep, the new appropriate reading is 6.026\n",
      "The slope for the new linear model is 0.008\n",
      "The intercept for the new linear model is 5.142\n",
      "Corresponding to an initial value (P) of 171.123\n",
      "And a net increase in the correlation coefficient of 0.026\n"
     ]
    }
   ],
   "source": [
    "# Extract Red LED readings (RL) for entire DataFrame\n",
    "rl_values = rgb_df['RL'].values\n",
    "\n",
    "# Calculate natural log of RL\n",
    "ln_rl_values = np.log(rl_values)\n",
    "\n",
    "# Fit linear model to transformed data\n",
    "coefficients = np.polyfit(rgb_df['R'], ln_rl_values, 1)\n",
    "slope, intercept = coefficients\n",
    "\n",
    "# Calculate initial value (P)\n",
    "e_to_the_power_of_intercept = np.exp(intercept)\n",
    "\n",
    "#Calculate corr coefficient before and after the transformation\n",
    "original_correlation = np.corrcoef(rgb_df['R'], rl_values)[0, 1]\n",
    "transformed_correlation = np.corrcoef(rgb_df['R'], ln_rl_values)[0, 1]\n",
    "\n",
    "# Calculate net increase in the correlation coefficient\n",
    "net_increase_correlation = transformed_correlation - original_correlation\n",
    "\n",
    "# Create a DataFrame with the natural log of RL values to identify new Julep value\n",
    "colors = rgb_df['Color'].values\n",
    "ln_rl_df = pd.DataFrame({'Color': colors, 'ln(RL)': ln_rl_values})\n",
    "\n",
    "# Print the results\n",
    "print(f\"For the color Julep, the new appropriate reading is {round(ln_rl_df.iloc[13, 1], 3)}\")\n",
    "print(f\"The slope for the new linear model is {round(slope, 3)}\")\n",
    "print(f\"The intercept for the new linear model is {round(intercept, 3)}\")\n",
    "print(f\"Corresponding to an initial value (P) of {round(e_to_the_power_of_intercept, 3)}\")\n",
    "print(f\"And a net increase in the correlation coefficient of {round(net_increase_correlation, 3)}\")"
   ]
  },
  {
   "cell_type": "markdown",
   "metadata": {},
   "source": [
    "### Question 14\n",
    "\n",
    "The correct answer is False\n",
    "The Spearman Correlation coefficient is a better measure of correlation for this experiment because the data not linear. "
   ]
  },
  {
   "cell_type": "markdown",
   "metadata": {},
   "source": [
    "### Question 15\n",
    "\n",
    "The TCS34725 sensor should be calibrated with a 255,255,255 light."
   ]
  }
 ],
 "metadata": {
  "kernelspec": {
   "display_name": "dse501",
   "language": "python",
   "name": "python3"
  },
  "language_info": {
   "codemirror_mode": {
    "name": "ipython",
    "version": 3
   },
   "file_extension": ".py",
   "mimetype": "text/x-python",
   "name": "python",
   "nbconvert_exporter": "python",
   "pygments_lexer": "ipython3",
   "version": "3.11.5"
  }
 },
 "nbformat": 4,
 "nbformat_minor": 2
}
